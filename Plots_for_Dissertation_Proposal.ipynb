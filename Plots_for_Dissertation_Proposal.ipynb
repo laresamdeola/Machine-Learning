{
  "nbformat": 4,
  "nbformat_minor": 0,
  "metadata": {
    "colab": {
      "name": "Plots for Dissertation Proposal.ipynb",
      "provenance": [],
      "collapsed_sections": [],
      "authorship_tag": "ABX9TyNasSUoTOYEFrbyf3Sn3kkl"
    },
    "kernelspec": {
      "name": "python3",
      "display_name": "Python 3"
    },
    "language_info": {
      "name": "python"
    }
  },
  "cells": [
    {
      "cell_type": "code",
      "execution_count": 1,
      "metadata": {
        "id": "Z0n6PxJ7-VCp"
      },
      "outputs": [],
      "source": [
        "import numpy as np\n",
        "from matplotlib import pyplot as plt\n",
        "import pandas as pd"
      ]
    },
    {
      "cell_type": "code",
      "source": [
        "data = pd.read_csv('Suicide in England only.csv')\n",
        "years = data.iloc[2:23 , 0].values\n",
        "deaths = data.iloc[2:23 , 1].values"
      ],
      "metadata": {
        "id": "E5hY9bId5_r6"
      },
      "execution_count": 63,
      "outputs": []
    },
    {
      "cell_type": "code",
      "source": [
        "print(years.size)\n",
        "years = np.flip(years)\n",
        "print(years)\n",
        "deaths = np.flip(deaths)\n",
        "print(deaths)"
      ],
      "metadata": {
        "colab": {
          "base_uri": "https://localhost:8080/"
        },
        "id": "dKFEaNxd_sqF",
        "outputId": "395e7753-71f0-40f0-be5d-cb66d226e2d1"
      },
      "execution_count": 64,
      "outputs": [
        {
          "output_type": "stream",
          "name": "stdout",
          "text": [
            "21\n",
            "['2000' '2001' '2002' '2003' '2004' '2005' '2006' '2007' '2008' '2009'\n",
            " '2010' '2011' '2012' '2013' '2014' '2015' '2016' '2017' '2018' '2019'\n",
            " '2020']\n",
            "['4,726' '4,557' '4,436' '4,430' '4,513' '4,410' '4,178' '3,999' '4,288'\n",
            " '4,392' '4,202' '4,518' '4,513' '4,727' '4,882' '4,820' '4,575' '4,451'\n",
            " '5,021' '5,316' '4,912']\n"
          ]
        }
      ]
    },
    {
      "cell_type": "code",
      "source": [
        "print(deaths.size)"
      ],
      "metadata": {
        "colab": {
          "base_uri": "https://localhost:8080/"
        },
        "id": "CSzBM_TSATWw",
        "outputId": "56352012-e4c0-48ca-ab4f-8152878dcf1a"
      },
      "execution_count": 46,
      "outputs": [
        {
          "output_type": "stream",
          "name": "stdout",
          "text": [
            "21\n"
          ]
        }
      ]
    },
    {
      "cell_type": "code",
      "source": [
        "data.head()"
      ],
      "metadata": {
        "colab": {
          "base_uri": "https://localhost:8080/",
          "height": 206
        },
        "id": "1ZRsSiC571H3",
        "outputId": "fc98e46a-6bd3-4b65-bf29-4eab17de9e45"
      },
      "execution_count": 9,
      "outputs": [
        {
          "output_type": "execute_result",
          "data": {
            "text/plain": [
              "  Unnamed: 0 Persons Unnamed: 2 Unnamed: 3 Unnamed: 4  Unnamed: 5   Males  \\\n",
              "0       Year  Deaths       Rate        LCL        UCL         NaN  Deaths   \n",
              "1        NaN     NaN        NaN        NaN        NaN         NaN     NaN   \n",
              "2       2020   4,912       10.0        9.7       10.2         NaN   3,682   \n",
              "3       2019   5,316       10.8       10.5       11.1         NaN   4,017   \n",
              "4       2018   5,021       10.3       10.0       10.6         NaN   3,800   \n",
              "\n",
              "  Unnamed: 7 Unnamed: 8 Unnamed: 9  Unnamed: 10 Females Unnamed: 12  \\\n",
              "0       Rate        LCL        UCL          NaN  Deaths        Rate   \n",
              "1        NaN        NaN        NaN          NaN     NaN         NaN   \n",
              "2       15.3       14.8       15.7          NaN   1,230         4.9   \n",
              "3       16.7       16.1       17.2          NaN   1,299         5.2   \n",
              "4       15.9       15.4       16.4          NaN   1,221         4.9   \n",
              "\n",
              "  Unnamed: 13 Unnamed: 14  \n",
              "0         LCL         UCL  \n",
              "1         NaN         NaN  \n",
              "2         4.6         5.2  \n",
              "3         4.9         5.5  \n",
              "4         4.6         5.2  "
            ],
            "text/html": [
              "\n",
              "  <div id=\"df-407e8bce-44b3-4420-ae84-9da7915b2376\">\n",
              "    <div class=\"colab-df-container\">\n",
              "      <div>\n",
              "<style scoped>\n",
              "    .dataframe tbody tr th:only-of-type {\n",
              "        vertical-align: middle;\n",
              "    }\n",
              "\n",
              "    .dataframe tbody tr th {\n",
              "        vertical-align: top;\n",
              "    }\n",
              "\n",
              "    .dataframe thead th {\n",
              "        text-align: right;\n",
              "    }\n",
              "</style>\n",
              "<table border=\"1\" class=\"dataframe\">\n",
              "  <thead>\n",
              "    <tr style=\"text-align: right;\">\n",
              "      <th></th>\n",
              "      <th>Unnamed: 0</th>\n",
              "      <th>Persons</th>\n",
              "      <th>Unnamed: 2</th>\n",
              "      <th>Unnamed: 3</th>\n",
              "      <th>Unnamed: 4</th>\n",
              "      <th>Unnamed: 5</th>\n",
              "      <th>Males</th>\n",
              "      <th>Unnamed: 7</th>\n",
              "      <th>Unnamed: 8</th>\n",
              "      <th>Unnamed: 9</th>\n",
              "      <th>Unnamed: 10</th>\n",
              "      <th>Females</th>\n",
              "      <th>Unnamed: 12</th>\n",
              "      <th>Unnamed: 13</th>\n",
              "      <th>Unnamed: 14</th>\n",
              "    </tr>\n",
              "  </thead>\n",
              "  <tbody>\n",
              "    <tr>\n",
              "      <th>0</th>\n",
              "      <td>Year</td>\n",
              "      <td>Deaths</td>\n",
              "      <td>Rate</td>\n",
              "      <td>LCL</td>\n",
              "      <td>UCL</td>\n",
              "      <td>NaN</td>\n",
              "      <td>Deaths</td>\n",
              "      <td>Rate</td>\n",
              "      <td>LCL</td>\n",
              "      <td>UCL</td>\n",
              "      <td>NaN</td>\n",
              "      <td>Deaths</td>\n",
              "      <td>Rate</td>\n",
              "      <td>LCL</td>\n",
              "      <td>UCL</td>\n",
              "    </tr>\n",
              "    <tr>\n",
              "      <th>1</th>\n",
              "      <td>NaN</td>\n",
              "      <td>NaN</td>\n",
              "      <td>NaN</td>\n",
              "      <td>NaN</td>\n",
              "      <td>NaN</td>\n",
              "      <td>NaN</td>\n",
              "      <td>NaN</td>\n",
              "      <td>NaN</td>\n",
              "      <td>NaN</td>\n",
              "      <td>NaN</td>\n",
              "      <td>NaN</td>\n",
              "      <td>NaN</td>\n",
              "      <td>NaN</td>\n",
              "      <td>NaN</td>\n",
              "      <td>NaN</td>\n",
              "    </tr>\n",
              "    <tr>\n",
              "      <th>2</th>\n",
              "      <td>2020</td>\n",
              "      <td>4,912</td>\n",
              "      <td>10.0</td>\n",
              "      <td>9.7</td>\n",
              "      <td>10.2</td>\n",
              "      <td>NaN</td>\n",
              "      <td>3,682</td>\n",
              "      <td>15.3</td>\n",
              "      <td>14.8</td>\n",
              "      <td>15.7</td>\n",
              "      <td>NaN</td>\n",
              "      <td>1,230</td>\n",
              "      <td>4.9</td>\n",
              "      <td>4.6</td>\n",
              "      <td>5.2</td>\n",
              "    </tr>\n",
              "    <tr>\n",
              "      <th>3</th>\n",
              "      <td>2019</td>\n",
              "      <td>5,316</td>\n",
              "      <td>10.8</td>\n",
              "      <td>10.5</td>\n",
              "      <td>11.1</td>\n",
              "      <td>NaN</td>\n",
              "      <td>4,017</td>\n",
              "      <td>16.7</td>\n",
              "      <td>16.1</td>\n",
              "      <td>17.2</td>\n",
              "      <td>NaN</td>\n",
              "      <td>1,299</td>\n",
              "      <td>5.2</td>\n",
              "      <td>4.9</td>\n",
              "      <td>5.5</td>\n",
              "    </tr>\n",
              "    <tr>\n",
              "      <th>4</th>\n",
              "      <td>2018</td>\n",
              "      <td>5,021</td>\n",
              "      <td>10.3</td>\n",
              "      <td>10.0</td>\n",
              "      <td>10.6</td>\n",
              "      <td>NaN</td>\n",
              "      <td>3,800</td>\n",
              "      <td>15.9</td>\n",
              "      <td>15.4</td>\n",
              "      <td>16.4</td>\n",
              "      <td>NaN</td>\n",
              "      <td>1,221</td>\n",
              "      <td>4.9</td>\n",
              "      <td>4.6</td>\n",
              "      <td>5.2</td>\n",
              "    </tr>\n",
              "  </tbody>\n",
              "</table>\n",
              "</div>\n",
              "      <button class=\"colab-df-convert\" onclick=\"convertToInteractive('df-407e8bce-44b3-4420-ae84-9da7915b2376')\"\n",
              "              title=\"Convert this dataframe to an interactive table.\"\n",
              "              style=\"display:none;\">\n",
              "        \n",
              "  <svg xmlns=\"http://www.w3.org/2000/svg\" height=\"24px\"viewBox=\"0 0 24 24\"\n",
              "       width=\"24px\">\n",
              "    <path d=\"M0 0h24v24H0V0z\" fill=\"none\"/>\n",
              "    <path d=\"M18.56 5.44l.94 2.06.94-2.06 2.06-.94-2.06-.94-.94-2.06-.94 2.06-2.06.94zm-11 1L8.5 8.5l.94-2.06 2.06-.94-2.06-.94L8.5 2.5l-.94 2.06-2.06.94zm10 10l.94 2.06.94-2.06 2.06-.94-2.06-.94-.94-2.06-.94 2.06-2.06.94z\"/><path d=\"M17.41 7.96l-1.37-1.37c-.4-.4-.92-.59-1.43-.59-.52 0-1.04.2-1.43.59L10.3 9.45l-7.72 7.72c-.78.78-.78 2.05 0 2.83L4 21.41c.39.39.9.59 1.41.59.51 0 1.02-.2 1.41-.59l7.78-7.78 2.81-2.81c.8-.78.8-2.07 0-2.86zM5.41 20L4 18.59l7.72-7.72 1.47 1.35L5.41 20z\"/>\n",
              "  </svg>\n",
              "      </button>\n",
              "      \n",
              "  <style>\n",
              "    .colab-df-container {\n",
              "      display:flex;\n",
              "      flex-wrap:wrap;\n",
              "      gap: 12px;\n",
              "    }\n",
              "\n",
              "    .colab-df-convert {\n",
              "      background-color: #E8F0FE;\n",
              "      border: none;\n",
              "      border-radius: 50%;\n",
              "      cursor: pointer;\n",
              "      display: none;\n",
              "      fill: #1967D2;\n",
              "      height: 32px;\n",
              "      padding: 0 0 0 0;\n",
              "      width: 32px;\n",
              "    }\n",
              "\n",
              "    .colab-df-convert:hover {\n",
              "      background-color: #E2EBFA;\n",
              "      box-shadow: 0px 1px 2px rgba(60, 64, 67, 0.3), 0px 1px 3px 1px rgba(60, 64, 67, 0.15);\n",
              "      fill: #174EA6;\n",
              "    }\n",
              "\n",
              "    [theme=dark] .colab-df-convert {\n",
              "      background-color: #3B4455;\n",
              "      fill: #D2E3FC;\n",
              "    }\n",
              "\n",
              "    [theme=dark] .colab-df-convert:hover {\n",
              "      background-color: #434B5C;\n",
              "      box-shadow: 0px 1px 3px 1px rgba(0, 0, 0, 0.15);\n",
              "      filter: drop-shadow(0px 1px 2px rgba(0, 0, 0, 0.3));\n",
              "      fill: #FFFFFF;\n",
              "    }\n",
              "  </style>\n",
              "\n",
              "      <script>\n",
              "        const buttonEl =\n",
              "          document.querySelector('#df-407e8bce-44b3-4420-ae84-9da7915b2376 button.colab-df-convert');\n",
              "        buttonEl.style.display =\n",
              "          google.colab.kernel.accessAllowed ? 'block' : 'none';\n",
              "\n",
              "        async function convertToInteractive(key) {\n",
              "          const element = document.querySelector('#df-407e8bce-44b3-4420-ae84-9da7915b2376');\n",
              "          const dataTable =\n",
              "            await google.colab.kernel.invokeFunction('convertToInteractive',\n",
              "                                                     [key], {});\n",
              "          if (!dataTable) return;\n",
              "\n",
              "          const docLinkHtml = 'Like what you see? Visit the ' +\n",
              "            '<a target=\"_blank\" href=https://colab.research.google.com/notebooks/data_table.ipynb>data table notebook</a>'\n",
              "            + ' to learn more about interactive tables.';\n",
              "          element.innerHTML = '';\n",
              "          dataTable['output_type'] = 'display_data';\n",
              "          await google.colab.output.renderOutput(dataTable, element);\n",
              "          const docLink = document.createElement('div');\n",
              "          docLink.innerHTML = docLinkHtml;\n",
              "          element.appendChild(docLink);\n",
              "        }\n",
              "      </script>\n",
              "    </div>\n",
              "  </div>\n",
              "  "
            ]
          },
          "metadata": {},
          "execution_count": 9
        }
      ]
    },
    {
      "cell_type": "code",
      "source": [
        "#years = years.reshape(-1, 1)\n",
        "#deaths = deaths.reshape(-1, 1)"
      ],
      "metadata": {
        "id": "DCKX0hiM8O15"
      },
      "execution_count": 21,
      "outputs": []
    },
    {
      "cell_type": "code",
      "source": [
        "print(years.dtype)"
      ],
      "metadata": {
        "colab": {
          "base_uri": "https://localhost:8080/"
        },
        "id": "_q8LjXB99pqU",
        "outputId": "84a30bf5-3ae7-42b5-a20c-2974845b95de"
      },
      "execution_count": 33,
      "outputs": [
        {
          "output_type": "stream",
          "name": "stdout",
          "text": [
            "object\n"
          ]
        }
      ]
    },
    {
      "cell_type": "code",
      "source": [
        "plt.title(' Suicide Deaths in England from 2000 - 2020')\n",
        "plt.plot(years, deaths, color = 'r')\n",
        "plt.ylabel('Amount of Suicide Deaths in England from 2000 - 2020 ')\n",
        "plt.xlabel('Years of Suicide Deaths in England from 2000 - 2020')\n",
        "plt.margins(0.02)\n",
        "plt.xticks(years, rotation='vertical')\n",
        "plt.grid()\n",
        "plt.show()"
      ],
      "metadata": {
        "colab": {
          "base_uri": "https://localhost:8080/",
          "height": 325
        },
        "id": "aK1JBsc58idX",
        "outputId": "b7bf4632-d44f-479f-b90c-b157b4d63f4e"
      },
      "execution_count": 73,
      "outputs": [
        {
          "output_type": "display_data",
          "data": {
            "text/plain": [
              "<Figure size 432x288 with 1 Axes>"
            ],
            "image/png": "[encoded data removed]"
          },
          "metadata": {
            "needs_background": "light"
          }
        }
      ]
    },
    {
      "cell_type": "code",
      "source": [
        "plt.bar(deaths, years)\n",
        "plt.xticks(deaths, rotation='vertical')\n",
        "plt.show()"
      ],
      "metadata": {
        "colab": {
          "base_uri": "https://localhost:8080/",
          "height": 284
        },
        "id": "5zGokbynBbGq",
        "outputId": "19fae50e-ac3c-4486-da0c-021aeb12affe"
      },
      "execution_count": 68,
      "outputs": [
        {
          "output_type": "display_data",
          "data": {
            "text/plain": [
              "<Figure size 432x288 with 1 Axes>"
            ],
            "image/png": "[encoded data removed]"
          },
          "metadata": {
            "needs_background": "light"
          }
        }
      ]
    }
  ]
}