{
  "nbformat": 4,
  "nbformat_minor": 0,
  "metadata": {
    "colab": {
      "name": "Diabetes_Model using KNN.ipynb",
      "provenance": [],
      "authorship_tag": "ABX9TyPjD8sLuLdayhZb67z/wuBc"
    },
    "kernelspec": {
      "name": "python3",
      "display_name": "Python 3"
    },
    "language_info": {
      "name": "python"
    }
  },
  "cells": [
    {
      "cell_type": "code",
      "execution_count": 1,
      "metadata": {
        "id": "-BXP-DtYJcD9"
      },
      "outputs": [],
      "source": [
        "import numpy as np\n",
        "import pandas as pd\n",
        "import matplotlib.pyplot as plt"
      ]
    },
    {
      "cell_type": "code",
      "source": [
        "data = pd.read_csv('diabetes_data_upload.csv')\n",
        "X = data.iloc[:, :-1].values\n",
        "y = data.iloc[:, -1].values"
      ],
      "metadata": {
        "id": "H5m02c5DJjL1"
      },
      "execution_count": 2,
      "outputs": []
    },
    {
      "cell_type": "code",
      "source": [
        "# Encoding each column manually, there was an issue trying to use One Hot Encoding or Ordinal Encoding.\n",
        "\n",
        "age = X[:, 0]\n",
        "\n",
        "for h in range(0, len(age)):\n",
        "  if age[h] > 65:\n",
        "    age[h] = 0\n",
        "  elif age[h] >= 20 or age[h] <= 65:\n",
        "    age[h] = 1\n",
        "\n",
        "age = age.reshape(-1, 1)\n",
        "\n",
        "gender = X[:, 1]\n",
        "\n",
        "for i in range(0, len(gender)):\n",
        "  if gender[i] == 'Male':\n",
        "    gender[i] = 1\n",
        "  elif gender[i] == 'Female':\n",
        "    gender[i] = 0\n",
        "\n",
        "gender = gender.reshape(-1, 1)\n",
        "\n",
        "# For polyuria\n",
        "\n",
        "polyuria = X[:, 2]\n",
        "\n",
        "for j in range(0, len(polyuria)):\n",
        "  if polyuria[j] == 'Yes':\n",
        "    polyuria[j] = 1\n",
        "  elif polyuria[j] == 'No':\n",
        "    polyuria[j] = 0\n",
        "\n",
        "polyuria = polyuria.reshape(-1, 1)\n",
        "\n",
        "# For Polydipsia\n",
        "\n",
        "polydipsia = X[:, 3]\n",
        "\n",
        "for k in range(0, len(polydipsia)):\n",
        "  if polydipsia[k] == 'Yes':\n",
        "    polydipsia[k] = 1\n",
        "  elif polydipsia[k] == 'No':\n",
        "    polydipsia[k] = 0\n",
        "\n",
        "polydipsia = polydipsia.reshape(-1, 1)\n",
        "\n",
        "# For sudden weight loss\n",
        "\n",
        "weight_loss = X[:, 4]\n",
        "\n",
        "for l in range(0, len(weight_loss)):\n",
        "  if weight_loss[l] == 'Yes':\n",
        "    weight_loss[l] = 1\n",
        "  elif weight_loss[l] == 'No':\n",
        "    weight_loss[l] = 0\n",
        "    \n",
        "weight_loss = weight_loss.reshape(-1, 1)\n",
        "\n",
        "# For weakness\n",
        "\n",
        "weakness = X[:, 5]\n",
        "\n",
        "for m in range(0, len(weakness)):\n",
        "  if weakness[m] == 'Yes':\n",
        "    weakness[m] = 1\n",
        "  elif weakness[m] == 'No':\n",
        "    weakness[m] = 0\n",
        "\n",
        "weakness = weakness.reshape(-1, 1)\n",
        "\n",
        "# For Polyphagia\n",
        "\n",
        "polyphagia = X[:, 6]\n",
        "\n",
        "for n in range(0, len(polyphagia)):\n",
        "  if polyphagia[n] == 'Yes':\n",
        "    polyphagia[n] = 1\n",
        "  elif polyphagia[n] == 'No':\n",
        "    polyphagia[n] = 0\n",
        "    \n",
        "polyphagia = polyphagia.reshape(-1, 1)\n",
        "\n",
        "genital_thrush = X[:, 7]\n",
        "\n",
        "for o in range(0, len(genital_thrush)):\n",
        "  if genital_thrush[o] == 'Yes':\n",
        "    genital_thrush[o] = 1\n",
        "  elif genital_thrush[o] == 'No':\n",
        "    genital_thrush[o] = 0\n",
        "\n",
        "genital_thrush = genital_thrush.reshape(-1, 1)\n",
        "\n",
        "# For visual_blurring\n",
        "\n",
        "visual_blurring = X[:, 8]\n",
        "\n",
        "for p in range(0, len(visual_blurring)):\n",
        "  if visual_blurring[p] == 'Yes':\n",
        "    visual_blurring[p] = 1\n",
        "  elif visual_blurring[p] == 'No':\n",
        "    visual_blurring[p] = 0\n",
        "    \n",
        "visual_blurring = visual_blurring.reshape(-1, 1)\n",
        "\n",
        "itching = X[:, 9]\n",
        "\n",
        "for q in range(0, len(itching)):\n",
        "  if itching[q] == 'Yes':\n",
        "    itching[q] = 1\n",
        "  elif itching[q] == 'No':\n",
        "    itching[q] = 0\n",
        "\n",
        "itching = itching.reshape(-1, 1)\n",
        "\n",
        "# For irritability\n",
        "\n",
        "irritability = X[:, 10]\n",
        "\n",
        "for r in range(0, len(irritability)):\n",
        "  if irritability[r] == 'Yes':\n",
        "    irritability[r] = 1\n",
        "  elif irritability[r] == 'No':\n",
        "    irritability[r] = 0\n",
        "    \n",
        "irritability = irritability.reshape(-1, 1)\n",
        "\n",
        "delayed_healing = X[:, 11]\n",
        "\n",
        "for s in range(0, len(delayed_healing)):\n",
        "  if delayed_healing[s] == 'Yes':\n",
        "    delayed_healing[s] = 1\n",
        "  elif delayed_healing[s] == 'No':\n",
        "    delayed_healing[s] = 0\n",
        "\n",
        "delayed_healing = delayed_healing.reshape(-1, 1)\n",
        "\n",
        "# For paresis\n",
        "\n",
        "paresis = X[:, 12]\n",
        "\n",
        "for t in range(0, len(paresis)):\n",
        "  if paresis[t] == 'Yes':\n",
        "    paresis[t] = 1\n",
        "  elif paresis[t] == 'No':\n",
        "    paresis[t] = 0\n",
        "    \n",
        "paresis = paresis.reshape(-1, 1)\n",
        "\n",
        "muscle_stiffness = X[:, 13]\n",
        "\n",
        "for u in range(0, len(muscle_stiffness)):\n",
        "  if muscle_stiffness[u] == 'Yes':\n",
        "    muscle_stiffness[u] = 1\n",
        "  elif muscle_stiffness[u] == 'No':\n",
        "    muscle_stiffness[u] = 0\n",
        "\n",
        "muscle_stiffness = muscle_stiffness.reshape(-1, 1)\n",
        "\n",
        "# For alopecia\n",
        "\n",
        "alopecia = X[:, 14]\n",
        "\n",
        "for v in range(0, len(alopecia)):\n",
        "  if alopecia[v] == 'Yes':\n",
        "    alopecia[v] = 1\n",
        "  elif alopecia[v] == 'No':\n",
        "    alopecia[v] = 0\n",
        "    \n",
        "alopecia = alopecia.reshape(-1, 1)\n",
        "\n",
        "obesity = X[:, 15]\n",
        "\n",
        "for w in range(0, len(obesity)):\n",
        "  if obesity[w] == 'Yes':\n",
        "    obesity[w] = 1\n",
        "  elif obesity[w] == 'No':\n",
        "    obesity[w] = 0\n",
        "\n",
        "obesity = obesity.reshape(-1, 1)\n",
        "\n",
        "\n",
        "diabetes = y\n",
        "\n",
        "for x in range(0, len(diabetes)):\n",
        "  if diabetes[x] == 'Positive':\n",
        "    diabetes[x] = 1\n",
        "  elif diabetes[x] == 'Negative':\n",
        "    diabetes[x] = 0\n",
        "\n",
        "diabetes = diabetes.reshape(-1, 1)"
      ],
      "metadata": {
        "id": "0u5362L8Jjft"
      },
      "execution_count": 3,
      "outputs": []
    },
    {
      "cell_type": "code",
      "source": [
        "categories = np.concatenate(([age, gender, polyuria, polydipsia, weight_loss, weakness, polyphagia, genital_thrush, visual_blurring, itching, irritability, delayed_healing, paresis, muscle_stiffness, alopecia, obesity]), 1)"
      ],
      "metadata": {
        "id": "7x1txb6WJjuR"
      },
      "execution_count": 4,
      "outputs": []
    },
    {
      "cell_type": "code",
      "source": [
        "from sklearn.model_selection import train_test_split\n",
        "categories_train, categories_test, diabetes_train, diabetes_test = train_test_split(categories, diabetes, test_size = 0.25, random_state = 0)"
      ],
      "metadata": {
        "id": "m3ihS5JdJj7V"
      },
      "execution_count": 5,
      "outputs": []
    },
    {
      "cell_type": "code",
      "source": [
        "from sklearn.neighbors import KNeighborsClassifier\n",
        "classifier = KNeighborsClassifier(n_neighbors = 5, metric = 'minkowski', p = 2)\n",
        "\n",
        "# I had to cast the dependent variable as an 'int'. In the original data, it was an 'int64', but got an error that\n",
        "# it had become a column vector instead of a 1d array\n",
        "\n",
        "diabetes_train = diabetes_train.astype('int')\n",
        "\n",
        "# Making the dependent variable a 1d array\n",
        "\n",
        "diabetes_train = diabetes_train.ravel()\n",
        "\n",
        "# Fitting the Logistic Regression Model\n",
        "\n",
        "classifier.fit(categories_train, diabetes_train)"
      ],
      "metadata": {
        "colab": {
          "base_uri": "https://localhost:8080/"
        },
        "id": "t16WsldCJkH3",
        "outputId": "5afe22f5-7580-4891-ed1b-2851230563e9"
      },
      "execution_count": 10,
      "outputs": [
        {
          "output_type": "execute_result",
          "data": {
            "text/plain": [
              "KNeighborsClassifier()"
            ]
          },
          "metadata": {},
          "execution_count": 10
        }
      ]
    },
    {
      "cell_type": "code",
      "source": [
        "diabetes_pred = classifier.predict(categories_test)\n",
        "print(np.concatenate((diabetes_pred.reshape(len(diabetes_pred), 1), diabetes_test.reshape(len(diabetes_test), 1)), 1))"
      ],
      "metadata": {
        "colab": {
          "base_uri": "https://localhost:8080/"
        },
        "id": "I5OWUgzYJkUG",
        "outputId": "6c15debb-4da4-420c-c2ff-53d95871bfcd"
      },
      "execution_count": 11,
      "outputs": [
        {
          "output_type": "stream",
          "name": "stdout",
          "text": [
            "[[1 1]\n",
            " [1 1]\n",
            " [1 1]\n",
            " [0 0]\n",
            " [0 0]\n",
            " [1 1]\n",
            " [1 1]\n",
            " [1 1]\n",
            " [1 1]\n",
            " [1 1]\n",
            " [0 1]\n",
            " [0 0]\n",
            " [1 1]\n",
            " [1 1]\n",
            " [1 1]\n",
            " [1 1]\n",
            " [0 0]\n",
            " [1 1]\n",
            " [1 1]\n",
            " [1 1]\n",
            " [1 1]\n",
            " [1 1]\n",
            " [1 1]\n",
            " [0 0]\n",
            " [0 0]\n",
            " [0 0]\n",
            " [1 1]\n",
            " [1 1]\n",
            " [1 0]\n",
            " [1 1]\n",
            " [1 1]\n",
            " [0 0]\n",
            " [0 0]\n",
            " [1 1]\n",
            " [1 1]\n",
            " [1 1]\n",
            " [1 1]\n",
            " [0 0]\n",
            " [1 1]\n",
            " [1 1]\n",
            " [1 1]\n",
            " [0 0]\n",
            " [1 1]\n",
            " [0 0]\n",
            " [0 0]\n",
            " [1 1]\n",
            " [1 1]\n",
            " [0 0]\n",
            " [1 1]\n",
            " [0 0]\n",
            " [1 1]\n",
            " [0 0]\n",
            " [1 1]\n",
            " [0 0]\n",
            " [1 1]\n",
            " [1 1]\n",
            " [1 1]\n",
            " [1 1]\n",
            " [1 1]\n",
            " [1 1]\n",
            " [0 0]\n",
            " [0 0]\n",
            " [1 1]\n",
            " [0 0]\n",
            " [1 1]\n",
            " [0 0]\n",
            " [1 1]\n",
            " [0 0]\n",
            " [1 1]\n",
            " [1 1]\n",
            " [0 0]\n",
            " [0 0]\n",
            " [1 1]\n",
            " [1 1]\n",
            " [0 0]\n",
            " [1 1]\n",
            " [0 0]\n",
            " [1 1]\n",
            " [1 1]\n",
            " [0 0]\n",
            " [1 1]\n",
            " [1 1]\n",
            " [0 0]\n",
            " [0 0]\n",
            " [1 1]\n",
            " [0 0]\n",
            " [1 1]\n",
            " [1 1]\n",
            " [0 0]\n",
            " [0 0]\n",
            " [0 0]\n",
            " [0 0]\n",
            " [0 0]\n",
            " [0 0]\n",
            " [0 0]\n",
            " [1 1]\n",
            " [1 1]\n",
            " [1 1]\n",
            " [1 1]\n",
            " [0 0]\n",
            " [0 0]\n",
            " [1 1]\n",
            " [1 1]\n",
            " [0 1]\n",
            " [0 0]\n",
            " [0 0]\n",
            " [1 1]\n",
            " [0 0]\n",
            " [1 1]\n",
            " [0 0]\n",
            " [1 0]\n",
            " [0 0]\n",
            " [1 1]\n",
            " [0 0]\n",
            " [1 1]\n",
            " [0 1]\n",
            " [0 0]\n",
            " [1 1]\n",
            " [1 0]\n",
            " [0 0]\n",
            " [0 0]\n",
            " [1 1]\n",
            " [1 1]\n",
            " [0 0]\n",
            " [1 1]\n",
            " [1 1]\n",
            " [0 0]\n",
            " [0 0]\n",
            " [0 0]\n",
            " [0 0]]\n"
          ]
        }
      ]
    },
    {
      "cell_type": "code",
      "source": [
        "# Transforming the dependent variable's test data into a 1d array.\n",
        "\n",
        "diabetes_test = diabetes_test.ravel()\n",
        "print(diabetes_test.shape)\n",
        "print(diabetes_pred.shape)"
      ],
      "metadata": {
        "colab": {
          "base_uri": "https://localhost:8080/"
        },
        "id": "pJVH4e8JKPJQ",
        "outputId": "7cde1778-2e1c-42d1-f918-0f251f82908b"
      },
      "execution_count": 12,
      "outputs": [
        {
          "output_type": "stream",
          "name": "stdout",
          "text": [
            "(130,)\n",
            "(130,)\n"
          ]
        }
      ]
    },
    {
      "cell_type": "code",
      "source": [
        "from sklearn.metrics import confusion_matrix, accuracy_score\n",
        "confusion = confusion_matrix(list(diabetes_test), diabetes_pred)\n",
        "print(confusion)\n",
        "accuracy_score(list(diabetes_test), diabetes_pred)"
      ],
      "metadata": {
        "colab": {
          "base_uri": "https://localhost:8080/"
        },
        "id": "YzEvZBRgKTrZ",
        "outputId": "ae4b6e09-be5c-4aa0-fb6b-9972c104c35d"
      },
      "execution_count": 13,
      "outputs": [
        {
          "output_type": "stream",
          "name": "stdout",
          "text": [
            "[[53  3]\n",
            " [ 3 71]]\n"
          ]
        },
        {
          "output_type": "execute_result",
          "data": {
            "text/plain": [
              "0.9538461538461539"
            ]
          },
          "metadata": {},
          "execution_count": 13
        }
      ]
    },
    {
      "cell_type": "code",
      "source": [
        ""
      ],
      "metadata": {
        "id": "5jWqB0FoKgIl"
      },
      "execution_count": null,
      "outputs": []
    }
  ]
}