{
  "nbformat": 4,
  "nbformat_minor": 0,
  "metadata": {
    "colab": {
      "name": "fertility_model.ipynb",
      "provenance": [],
      "authorship_tag": "ABX9TyNK2mcA30GXO7ubdLmPZLD8"
    },
    "kernelspec": {
      "name": "python3",
      "display_name": "Python 3"
    },
    "language_info": {
      "name": "python"
    }
  },
  "cells": [
    {
      "cell_type": "code",
      "execution_count": 52,
      "metadata": {
        "id": "hYxnX2_a-4ED"
      },
      "outputs": [],
      "source": [
        "import numpy as np\n",
        "import pandas as pd\n",
        "import matplotlib.pyplot as plt"
      ]
    },
    {
      "cell_type": "code",
      "source": [
        "# Importing and reading the data using panda, the next line also provides a summary of the data\n",
        "# note that the feature column, 'Diagnosis' has a datatype of 'object'. That would have to be fixed.\n",
        "\n",
        "data = pd.read_csv('fertility_Diagnosis.csv')\n",
        "data.info()"
      ],
      "metadata": {
        "colab": {
          "base_uri": "https://localhost:8080/"
        },
        "id": "wOElr8aoTU1j",
        "outputId": "8f82678d-9af2-43aa-d12f-18cd5a2016d5"
      },
      "execution_count": 53,
      "outputs": [
        {
          "output_type": "stream",
          "name": "stdout",
          "text": [
            "<class 'pandas.core.frame.DataFrame'>\n",
            "RangeIndex: 100 entries, 0 to 99\n",
            "Data columns (total 10 columns):\n",
            " #   Column               Non-Null Count  Dtype  \n",
            "---  ------               --------------  -----  \n",
            " 0   Season               100 non-null    float64\n",
            " 1   Age                  100 non-null    float64\n",
            " 2   Chidish Diseases     100 non-null    int64  \n",
            " 3   Accident or Trauma   100 non-null    int64  \n",
            " 4   Surgery              100 non-null    int64  \n",
            " 5   High Fever           100 non-null    int64  \n",
            " 6   Alcohol Consumption  100 non-null    float64\n",
            " 7   Smoking Habit        100 non-null    int64  \n",
            " 8   Sitting Hours        100 non-null    float64\n",
            " 9   Diagnosis            100 non-null    object \n",
            "dtypes: float64(4), int64(5), object(1)\n",
            "memory usage: 7.9+ KB\n"
          ]
        }
      ]
    },
    {
      "cell_type": "code",
      "source": [
        "# Extracted both the independent(X) and dependent(y) variables. y has been transformed to binary\n",
        "# values using a for loop then transformed to an integer.\n",
        "\n",
        "X = data.iloc[:, :-1].values\n",
        "y = data.iloc[:, -1].values\n",
        "\n",
        "for i in range(0, len(y)):\n",
        "  if y[i] == 'N':\n",
        "    y[i] = 1 # This is Normal\n",
        "  else:\n",
        "    y[i] = 0 # This is altered/not normal\n",
        "y = y.astype('int')"
      ],
      "metadata": {
        "id": "y223u778e1jK"
      },
      "execution_count": 54,
      "outputs": []
    },
    {
      "cell_type": "code",
      "source": [
        "# Splitting the data set into a train and test set to avoid information leakage.\n",
        "\n",
        "from sklearn.model_selection import train_test_split\n",
        "X_train, X_test, y_train, y_test = train_test_split(X, y, test_size=0.25, random_state=0)"
      ],
      "metadata": {
        "id": "fQxxjft-gG6j"
      },
      "execution_count": 55,
      "outputs": []
    },
    {
      "cell_type": "code",
      "source": [
        "# USING KNN classifier\n",
        "\n",
        "from sklearn.neighbors import KNeighborsClassifier\n",
        "classifier = KNeighborsClassifier(n_neighbors=5, metric='minkowski', p=2)\n",
        "classifier.fit(X_train, y_train)"
      ],
      "metadata": {
        "colab": {
          "base_uri": "https://localhost:8080/"
        },
        "id": "P3bQ7D7IliUX",
        "outputId": "2c65103c-0e01-42f4-f7f2-aa7d816e87f5"
      },
      "execution_count": 56,
      "outputs": [
        {
          "output_type": "execute_result",
          "data": {
            "text/plain": [
              "KNeighborsClassifier()"
            ]
          },
          "metadata": {},
          "execution_count": 56
        }
      ]
    },
    {
      "cell_type": "code",
      "source": [
        "y_pred = classifier.predict(X_test)"
      ],
      "metadata": {
        "id": "97XCkUsngHc1"
      },
      "execution_count": 57,
      "outputs": []
    },
    {
      "cell_type": "code",
      "source": [
        "# This line gives us a tabular(somewhat) summary of the classification performance of our model \n",
        "\n",
        "print(np.concatenate((y_pred.reshape(len(y_pred), 1), y_test.reshape(len(y_test), 1)), 1))"
      ],
      "metadata": {
        "colab": {
          "base_uri": "https://localhost:8080/"
        },
        "id": "pg6pAQJ9h_dl",
        "outputId": "dd0a7690-f553-40fa-dc64-9ad4b118b698"
      },
      "execution_count": 58,
      "outputs": [
        {
          "output_type": "stream",
          "name": "stdout",
          "text": [
            "[[1 0]\n",
            " [1 1]\n",
            " [1 1]\n",
            " [1 1]\n",
            " [1 1]\n",
            " [1 0]\n",
            " [1 1]\n",
            " [1 1]\n",
            " [1 1]\n",
            " [1 1]\n",
            " [1 1]\n",
            " [1 1]\n",
            " [1 1]\n",
            " [1 1]\n",
            " [1 1]\n",
            " [1 1]\n",
            " [1 1]\n",
            " [1 1]\n",
            " [1 1]\n",
            " [1 1]\n",
            " [1 1]\n",
            " [1 1]\n",
            " [1 1]\n",
            " [1 1]\n",
            " [1 1]]\n"
          ]
        }
      ]
    },
    {
      "cell_type": "code",
      "source": [
        "# This is more informed and rigorous, using the confusion matrix and accuracy score to better\n",
        "# evaluate the performance of our model\n",
        "\n",
        "from sklearn.metrics import confusion_matrix, accuracy_score\n",
        "confusion = confusion_matrix(y_test, y_pred)\n",
        "print(confusion)\n",
        "accuracy_score(y_test, y_pred)"
      ],
      "metadata": {
        "colab": {
          "base_uri": "https://localhost:8080/"
        },
        "id": "0dlo7EySir-_",
        "outputId": "83fd323d-9062-4b13-e57d-4286c86ebe69"
      },
      "execution_count": 59,
      "outputs": [
        {
          "output_type": "stream",
          "name": "stdout",
          "text": [
            "[[ 0  2]\n",
            " [ 0 23]]\n"
          ]
        },
        {
          "output_type": "execute_result",
          "data": {
            "text/plain": [
              "0.92"
            ]
          },
          "metadata": {},
          "execution_count": 59
        }
      ]
    }
  ]
}