{
  "nbformat": 4,
  "nbformat_minor": 0,
  "metadata": {
    "colab": {
      "provenance": [],
      "authorship_tag": "ABX9TyOEiYKlIuwE2Q4G/++I0j3P",
      "include_colab_link": true
    },
    "kernelspec": {
      "name": "python3",
      "display_name": "Python 3"
    },
    "language_info": {
      "name": "python"
    }
  },
  "cells": [
    {
      "cell_type": "markdown",
      "metadata": {
        "id": "view-in-github",
        "colab_type": "text"
      },
      "source": [
        "<a href=\"https://colab.research.google.com/github/laresamdeola/Machine-Learning/blob/main/AI_Generated_Video.ipynb\" target=\"_parent\"><img src=\"https://colab.research.google.com/assets/colab-badge.svg\" alt=\"Open In Colab\"/></a>"
      ]
    },
    {
      "cell_type": "code",
      "execution_count": 1,
      "metadata": {
        "colab": {
          "base_uri": "https://localhost:8080/"
        },
        "id": "JcFejJX6sUkc",
        "outputId": "fc8c164c-b314-4085-8554-59a386068dde"
      },
      "outputs": [
        {
          "output_type": "stream",
          "name": "stdout",
          "text": [
            "Requirement already satisfied: moviepy in /usr/local/lib/python3.10/dist-packages (1.0.3)\n",
            "Collecting gtts\n",
            "  Downloading gTTS-2.5.3-py3-none-any.whl.metadata (4.1 kB)\n",
            "Requirement already satisfied: decorator<5.0,>=4.0.2 in /usr/local/lib/python3.10/dist-packages (from moviepy) (4.4.2)\n",
            "Requirement already satisfied: tqdm<5.0,>=4.11.2 in /usr/local/lib/python3.10/dist-packages (from moviepy) (4.66.5)\n",
            "Requirement already satisfied: requests<3.0,>=2.8.1 in /usr/local/lib/python3.10/dist-packages (from moviepy) (2.32.3)\n",
            "Requirement already satisfied: proglog<=1.0.0 in /usr/local/lib/python3.10/dist-packages (from moviepy) (0.1.10)\n",
            "Requirement already satisfied: numpy>=1.17.3 in /usr/local/lib/python3.10/dist-packages (from moviepy) (1.26.4)\n",
            "Requirement already satisfied: imageio<3.0,>=2.5 in /usr/local/lib/python3.10/dist-packages (from moviepy) (2.35.1)\n",
            "Requirement already satisfied: imageio-ffmpeg>=0.2.0 in /usr/local/lib/python3.10/dist-packages (from moviepy) (0.5.1)\n",
            "Requirement already satisfied: click<8.2,>=7.1 in /usr/local/lib/python3.10/dist-packages (from gtts) (8.1.7)\n",
            "Requirement already satisfied: pillow>=8.3.2 in /usr/local/lib/python3.10/dist-packages (from imageio<3.0,>=2.5->moviepy) (10.4.0)\n",
            "Requirement already satisfied: setuptools in /usr/local/lib/python3.10/dist-packages (from imageio-ffmpeg>=0.2.0->moviepy) (71.0.4)\n",
            "Requirement already satisfied: charset-normalizer<4,>=2 in /usr/local/lib/python3.10/dist-packages (from requests<3.0,>=2.8.1->moviepy) (3.3.2)\n",
            "Requirement already satisfied: idna<4,>=2.5 in /usr/local/lib/python3.10/dist-packages (from requests<3.0,>=2.8.1->moviepy) (3.10)\n",
            "Requirement already satisfied: urllib3<3,>=1.21.1 in /usr/local/lib/python3.10/dist-packages (from requests<3.0,>=2.8.1->moviepy) (2.0.7)\n",
            "Requirement already satisfied: certifi>=2017.4.17 in /usr/local/lib/python3.10/dist-packages (from requests<3.0,>=2.8.1->moviepy) (2024.8.30)\n",
            "Downloading gTTS-2.5.3-py3-none-any.whl (29 kB)\n",
            "Installing collected packages: gtts\n",
            "Successfully installed gtts-2.5.3\n"
          ]
        }
      ],
      "source": [
        "pip install moviepy gtts"
      ]
    },
    {
      "cell_type": "code",
      "source": [
        "from moviepy.editor import *\n",
        "from gtts import gTTS\n",
        "import os"
      ],
      "metadata": {
        "id": "HtadtX-3h8Gp"
      },
      "execution_count": 2,
      "outputs": []
    },
    {
      "cell_type": "code",
      "source": [
        "script = '''\n",
        "This is an AI-generated video that demonstrates how artificial intelligence can be used to create\n",
        "engaging and informative content. Over the next three minutes, we will explore various aspects of AI,\n",
        "including machine learning, deep learning, and their applications in everyday life.\n",
        "'''"
      ],
      "metadata": {
        "id": "jTnTNrNXiC2V"
      },
      "execution_count": 3,
      "outputs": []
    },
    {
      "cell_type": "code",
      "source": [
        "def create_narration(text, output_file):\n",
        "  tts = gTTS(text=text, lang='en')\n",
        "  tts.save(output_file)\n",
        "  # return output_file"
      ],
      "metadata": {
        "id": "Acn6ALkwiMpI"
      },
      "execution_count": 4,
      "outputs": []
    },
    {
      "cell_type": "code",
      "source": [
        "narration_file = 'narration.mp3'\n",
        "create_narration(script, narration_file)"
      ],
      "metadata": {
        "id": "mB6nJilfiV0Q"
      },
      "execution_count": 5,
      "outputs": []
    },
    {
      "cell_type": "code",
      "source": [
        "image_files = ['/content/Screenshot 2024-06-14 083058.png', '/content/Screenshot 2024-06-14 083217.png', '/content/Screenshot 2024-06-14 083301.png']"
      ],
      "metadata": {
        "id": "w8pJOTeOidzI"
      },
      "execution_count": 6,
      "outputs": []
    },
    {
      "cell_type": "code",
      "source": [
        "def create_video_with_images_and_narration(image_files, narration_file, output_file):\n",
        "  clips = []\n",
        "  for image in image_files:\n",
        "    image_clip = ImageClip(image).set_duration(5)\n",
        "    clips.append(image_clip)\n",
        "  video = concatenate_videoclips(clips, method='compose')\n",
        "  audio = AudioFileClip(narration_file)\n",
        "  video = video.set_audio(audio)\n",
        "  video.write_videofile(output_file, fps=24)"
      ],
      "metadata": {
        "id": "7oce6xtqi0PZ"
      },
      "execution_count": 7,
      "outputs": []
    },
    {
      "cell_type": "code",
      "source": [
        "output_video = 'output_video.mp4'\n",
        "create_video_with_images_and_narration(image_files, narration_file, output_video)"
      ],
      "metadata": {
        "colab": {
          "base_uri": "https://localhost:8080/"
        },
        "id": "guttmj7yj2Yp",
        "outputId": "4f0b8f05-c3da-459c-c178-9beaad8efb29"
      },
      "execution_count": 8,
      "outputs": [
        {
          "output_type": "stream",
          "name": "stdout",
          "text": [
            "Moviepy - Building video output_video.mp4.\n",
            "MoviePy - Writing audio in output_videoTEMP_MPY_wvf_snd.mp3\n"
          ]
        },
        {
          "output_type": "stream",
          "name": "stderr",
          "text": []
        },
        {
          "output_type": "stream",
          "name": "stdout",
          "text": [
            "MoviePy - Done.\n",
            "Moviepy - Writing video output_video.mp4\n",
            "\n"
          ]
        },
        {
          "output_type": "stream",
          "name": "stderr",
          "text": []
        },
        {
          "output_type": "stream",
          "name": "stdout",
          "text": [
            "Moviepy - Done !\n",
            "Moviepy - video ready output_video.mp4\n"
          ]
        }
      ]
    },
    {
      "cell_type": "markdown",
      "source": [
        "Animation with moviepy"
      ],
      "metadata": {
        "id": "J21QRg7-WOnI"
      }
    },
    {
      "cell_type": "code",
      "source": [
        "import matplotlib.pyplot as plt\n",
        "import numpy as np\n",
        "from moviepy.editor import VideoClip\n",
        "from moviepy.video.io.bindings import mplfig_to_npimage\n",
        "\n",
        "x = np.linspace(-2, 2, 200)\n",
        "\n",
        "duration = 2\n",
        "\n",
        "fig, ax = plt.subplots()\n",
        "def make_frame(t):\n",
        "    ax.clear()\n",
        "    ax.plot(x, np.sinc(x**2) * t, lw=1)\n",
        "    ax.set_ylim(-1.5, 2.5)\n",
        "    return mplfig_to_npimage(fig)\n",
        "\n",
        "animation = VideoClip(make_frame, duration=duration)\n",
        "animation.write_gif('matplotlib.gif', fps=20)"
      ],
      "metadata": {
        "colab": {
          "base_uri": "https://localhost:8080/",
          "height": 452
        },
        "id": "ucK4JjtrSWv2",
        "outputId": "39b508a5-ccc8-4a77-ba0c-82cacf2a5947"
      },
      "execution_count": 5,
      "outputs": [
        {
          "output_type": "stream",
          "name": "stdout",
          "text": [
            "MoviePy - Building file matplotlib.gif with imageio.\n"
          ]
        },
        {
          "output_type": "stream",
          "name": "stderr",
          "text": []
        },
        {
          "output_type": "display_data",
          "data": {
            "text/plain": [
              "<Figure size 640x480 with 1 Axes>"
            ],
            "image/png": "[encoded data removed]"
          },
          "metadata": {}
        }
      ]
    },
    {
      "cell_type": "code",
      "source": [
        "import matplotlib.pyplot as plt\n",
        "import numpy as np\n",
        "from moviepy.editor import VideoClip\n",
        "from moviepy.video.io.bindings import mplfig_to_npimage\n",
        "\n",
        "x = np.array([0, 1, 2, 3, 4, 5, 6, 7, 8, 9, 10])\n",
        "y = [100, 90, 80, 70, 60, 50, 40, 30, 20, 10, 0]\n",
        "\n",
        "duration = 2\n",
        "\n",
        "fig, ax = plt.subplots()\n",
        "def make_frame(t):\n",
        "    ax.clear()\n",
        "    ax.plot(x, np.sinc(x**2) + np.sin(x + 2*np.pi/duration * t), lw=2)\n",
        "    ax.set_ylim(-1.5, 2.5)\n",
        "    return mplfig_to_npimage(fig)\n",
        "\n",
        "animation = VideoClip(make_frame, duration=duration)\n",
        "animation.write_gif('matplotlib3.gif', fps=20)"
      ],
      "metadata": {
        "colab": {
          "base_uri": "https://localhost:8080/",
          "height": 452
        },
        "id": "iVmgba44UfbI",
        "outputId": "0b64b3fe-f4fe-4034-afac-2e7af5077610"
      },
      "execution_count": 10,
      "outputs": [
        {
          "output_type": "stream",
          "name": "stdout",
          "text": [
            "MoviePy - Building file matplotlib3.gif with imageio.\n"
          ]
        },
        {
          "output_type": "stream",
          "name": "stderr",
          "text": []
        },
        {
          "output_type": "display_data",
          "data": {
            "text/plain": [
              "<Figure size 640x480 with 1 Axes>"
            ],
            "image/png": "[encoded data removed]"
          },
          "metadata": {}
        }
      ]
    }
  ]
}