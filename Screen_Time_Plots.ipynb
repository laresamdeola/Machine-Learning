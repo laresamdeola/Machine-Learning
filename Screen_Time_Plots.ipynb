{
  "nbformat": 4,
  "nbformat_minor": 0,
  "metadata": {
    "colab": {
      "name": "Screen Time Plots.ipynb",
      "provenance": [],
      "collapsed_sections": [],
      "authorship_tag": "ABX9TyNtNg20m8b0gIb0sNupl5Eu"
    },
    "kernelspec": {
      "name": "python3",
      "display_name": "Python 3"
    },
    "language_info": {
      "name": "python"
    }
  },
  "cells": [
    {
      "cell_type": "code",
      "execution_count": null,
      "metadata": {
        "id": "D_CLEixDHxRp"
      },
      "outputs": [],
      "source": [
        "import numpy as np\n",
        "from matplotlib import pyplot as plt\n",
        "import pandas as pd"
      ]
    },
    {
      "cell_type": "code",
      "source": [
        "data = pd.read_csv('Screen Time Statistics.csv')\n",
        "country = data.iloc[: , 1].values\n",
        "screen_time = data.iloc[:, 2].values\n",
        "mobile_time = data.iloc[:, 3].values\n",
        "social_media = data.iloc[:, 11].values"
      ],
      "metadata": {
        "id": "uSFzqfOEIA1b"
      },
      "execution_count": 56,
      "outputs": []
    },
    {
      "cell_type": "code",
      "source": [
        "print(social_media)"
      ],
      "metadata": {
        "colab": {
          "base_uri": "https://localhost:8080/"
        },
        "id": "sq1MsRA-RWVb",
        "outputId": "da02ef71-442a-4305-b1ba-dd69c6bbe48c"
      },
      "execution_count": 57,
      "outputs": [
        {
          "output_type": "stream",
          "name": "stdout",
          "text": [
            "['03:26' '01:57' '01:31' '01:34' '03:41' '01:53' '01:57' '03:46' '01:59'\n",
            " '03:13' '01:46' '01:29' '01:50' '01:53' '02:36' '03:17' '01:59' '01:58'\n",
            " '01:47' '00:51' '03:02' '03:20' '01:21' '02:05' '04:06' '01:49' '02:28'\n",
            " '02:19' '03:24' '02:31' '03:43' '01:13' '01:53' '02:02' '01:33' '02:04'\n",
            " '02:59' '02:59' '03:04' '01:48' '02:14' '02:28' '02:27' '02:27']\n"
          ]
        }
      ]
    },
    {
      "cell_type": "code",
      "source": [
        "data.head()"
      ],
      "metadata": {
        "colab": {
          "base_uri": "https://localhost:8080/",
          "height": 285
        },
        "id": "7kIWyKCnQ0-B",
        "outputId": "c6493077-681d-4cd3-ae68-43d0a88fff2a"
      },
      "execution_count": 55,
      "outputs": [
        {
          "output_type": "execute_result",
          "data": {
            "text/plain": [
              "   Flag   Country  Total Time Spent on Devices Internet via Mobiles   \\\n",
              "0  :ar:  Argentina                       09:38                 05:04   \n",
              "1  :au:  Australia                       06:13                 02:49   \n",
              "2  :at:   Austria                        05:42                 02:29   \n",
              "3  :be:    Belgium                       05:44                 02:19   \n",
              "4  :br:     Brazil                       10:19                 05:25   \n",
              "\n",
              "  Internet via Computer   % of Population Using the Internet  \\\n",
              "0                  04:34                                83.0   \n",
              "1                  03:24                                91.0   \n",
              "2                  03:13                                93.0   \n",
              "3                  03:25                                94.0   \n",
              "4                  04:54                                77.0   \n",
              "\n",
              "   Mobile Internet Speed (Mbps)  Fixed Internet Speed (Mbps)  \\\n",
              "0                         21.09                        38.61   \n",
              "1                         81.14                        51.98   \n",
              "2                         50.31                        51.01   \n",
              "3                         47.98                        77.58   \n",
              "4                         22.60                        83.25   \n",
              "\n",
              "   Streaming TV (%)  Playing Video Games  (%) Time Spent using a game console  \\\n",
              "0              96.7                      86.6                           01:01   \n",
              "1              91.2                      75.2                           01:07   \n",
              "2              88.2                      74.4                           00:45   \n",
              "3              86.7                      70.5                           00:40   \n",
              "4              97.7                      89.3                           01:10   \n",
              "\n",
              "  Daily Time Spent Using Social Media  Number of Social Media Accounts  \\\n",
              "0                               03:26                              7.4   \n",
              "1                               01:57                              6.1   \n",
              "2                               01:31                              5.5   \n",
              "3                               01:34                              5.6   \n",
              "4                               03:41                              8.7   \n",
              "\n",
              "   Listening to Podcasts (%) Time Spent Listening to Podcasts  \\\n",
              "0                       16.9                            00:37   \n",
              "1                       20.5                            00:54   \n",
              "2                       15.9                            00:37   \n",
              "3                       11.6                            00:25   \n",
              "4                       37.0                            01:06   \n",
              "\n",
              "   Listen to Streaming Music Services (%)  \\\n",
              "0                                    38.9   \n",
              "1                                    16.7   \n",
              "2                                    33.2   \n",
              "3                                    25.8   \n",
              "4                                    50.4   \n",
              "\n",
              "  Time Spent Listening to Music Streaming services  \n",
              "0                                            01:53  \n",
              "1                                            01:42  \n",
              "2                                            01:15  \n",
              "3                                            00:57  \n",
              "4                                            02:03  "
            ],
            "text/html": [
              "\n",
              "  <div id=\"df-8197c708-95b7-445a-a605-3040f4071ba5\">\n",
              "    <div class=\"colab-df-container\">\n",
              "      <div>\n",
              "<style scoped>\n",
              "    .dataframe tbody tr th:only-of-type {\n",
              "        vertical-align: middle;\n",
              "    }\n",
              "\n",
              "    .dataframe tbody tr th {\n",
              "        vertical-align: top;\n",
              "    }\n",
              "\n",
              "    .dataframe thead th {\n",
              "        text-align: right;\n",
              "    }\n",
              "</style>\n",
              "<table border=\"1\" class=\"dataframe\">\n",
              "  <thead>\n",
              "    <tr style=\"text-align: right;\">\n",
              "      <th></th>\n",
              "      <th>Flag</th>\n",
              "      <th>Country</th>\n",
              "      <th>Total Time Spent on Devices</th>\n",
              "      <th>Internet via Mobiles</th>\n",
              "      <th>Internet via Computer</th>\n",
              "      <th>% of Population Using the Internet</th>\n",
              "      <th>Mobile Internet Speed (Mbps)</th>\n",
              "      <th>Fixed Internet Speed (Mbps)</th>\n",
              "      <th>Streaming TV (%)</th>\n",
              "      <th>Playing Video Games  (%)</th>\n",
              "      <th>Time Spent using a game console</th>\n",
              "      <th>Daily Time Spent Using Social Media</th>\n",
              "      <th>Number of Social Media Accounts</th>\n",
              "      <th>Listening to Podcasts (%)</th>\n",
              "      <th>Time Spent Listening to Podcasts</th>\n",
              "      <th>Listen to Streaming Music Services (%)</th>\n",
              "      <th>Time Spent Listening to Music Streaming services</th>\n",
              "    </tr>\n",
              "  </thead>\n",
              "  <tbody>\n",
              "    <tr>\n",
              "      <th>0</th>\n",
              "      <td>:ar:</td>\n",
              "      <td>Argentina</td>\n",
              "      <td>09:38</td>\n",
              "      <td>05:04</td>\n",
              "      <td>04:34</td>\n",
              "      <td>83.0</td>\n",
              "      <td>21.09</td>\n",
              "      <td>38.61</td>\n",
              "      <td>96.7</td>\n",
              "      <td>86.6</td>\n",
              "      <td>01:01</td>\n",
              "      <td>03:26</td>\n",
              "      <td>7.4</td>\n",
              "      <td>16.9</td>\n",
              "      <td>00:37</td>\n",
              "      <td>38.9</td>\n",
              "      <td>01:53</td>\n",
              "    </tr>\n",
              "    <tr>\n",
              "      <th>1</th>\n",
              "      <td>:au:</td>\n",
              "      <td>Australia</td>\n",
              "      <td>06:13</td>\n",
              "      <td>02:49</td>\n",
              "      <td>03:24</td>\n",
              "      <td>91.0</td>\n",
              "      <td>81.14</td>\n",
              "      <td>51.98</td>\n",
              "      <td>91.2</td>\n",
              "      <td>75.2</td>\n",
              "      <td>01:07</td>\n",
              "      <td>01:57</td>\n",
              "      <td>6.1</td>\n",
              "      <td>20.5</td>\n",
              "      <td>00:54</td>\n",
              "      <td>16.7</td>\n",
              "      <td>01:42</td>\n",
              "    </tr>\n",
              "    <tr>\n",
              "      <th>2</th>\n",
              "      <td>:at:</td>\n",
              "      <td>Austria</td>\n",
              "      <td>05:42</td>\n",
              "      <td>02:29</td>\n",
              "      <td>03:13</td>\n",
              "      <td>93.0</td>\n",
              "      <td>50.31</td>\n",
              "      <td>51.01</td>\n",
              "      <td>88.2</td>\n",
              "      <td>74.4</td>\n",
              "      <td>00:45</td>\n",
              "      <td>01:31</td>\n",
              "      <td>5.5</td>\n",
              "      <td>15.9</td>\n",
              "      <td>00:37</td>\n",
              "      <td>33.2</td>\n",
              "      <td>01:15</td>\n",
              "    </tr>\n",
              "    <tr>\n",
              "      <th>3</th>\n",
              "      <td>:be:</td>\n",
              "      <td>Belgium</td>\n",
              "      <td>05:44</td>\n",
              "      <td>02:19</td>\n",
              "      <td>03:25</td>\n",
              "      <td>94.0</td>\n",
              "      <td>47.98</td>\n",
              "      <td>77.58</td>\n",
              "      <td>86.7</td>\n",
              "      <td>70.5</td>\n",
              "      <td>00:40</td>\n",
              "      <td>01:34</td>\n",
              "      <td>5.6</td>\n",
              "      <td>11.6</td>\n",
              "      <td>00:25</td>\n",
              "      <td>25.8</td>\n",
              "      <td>00:57</td>\n",
              "    </tr>\n",
              "    <tr>\n",
              "      <th>4</th>\n",
              "      <td>:br:</td>\n",
              "      <td>Brazil</td>\n",
              "      <td>10:19</td>\n",
              "      <td>05:25</td>\n",
              "      <td>04:54</td>\n",
              "      <td>77.0</td>\n",
              "      <td>22.60</td>\n",
              "      <td>83.25</td>\n",
              "      <td>97.7</td>\n",
              "      <td>89.3</td>\n",
              "      <td>01:10</td>\n",
              "      <td>03:41</td>\n",
              "      <td>8.7</td>\n",
              "      <td>37.0</td>\n",
              "      <td>01:06</td>\n",
              "      <td>50.4</td>\n",
              "      <td>02:03</td>\n",
              "    </tr>\n",
              "  </tbody>\n",
              "</table>\n",
              "</div>\n",
              "      <button class=\"colab-df-convert\" onclick=\"convertToInteractive('df-8197c708-95b7-445a-a605-3040f4071ba5')\"\n",
              "              title=\"Convert this dataframe to an interactive table.\"\n",
              "              style=\"display:none;\">\n",
              "        \n",
              "  <svg xmlns=\"http://www.w3.org/2000/svg\" height=\"24px\"viewBox=\"0 0 24 24\"\n",
              "       width=\"24px\">\n",
              "    <path d=\"M0 0h24v24H0V0z\" fill=\"none\"/>\n",
              "    <path d=\"M18.56 5.44l.94 2.06.94-2.06 2.06-.94-2.06-.94-.94-2.06-.94 2.06-2.06.94zm-11 1L8.5 8.5l.94-2.06 2.06-.94-2.06-.94L8.5 2.5l-.94 2.06-2.06.94zm10 10l.94 2.06.94-2.06 2.06-.94-2.06-.94-.94-2.06-.94 2.06-2.06.94z\"/><path d=\"M17.41 7.96l-1.37-1.37c-.4-.4-.92-.59-1.43-.59-.52 0-1.04.2-1.43.59L10.3 9.45l-7.72 7.72c-.78.78-.78 2.05 0 2.83L4 21.41c.39.39.9.59 1.41.59.51 0 1.02-.2 1.41-.59l7.78-7.78 2.81-2.81c.8-.78.8-2.07 0-2.86zM5.41 20L4 18.59l7.72-7.72 1.47 1.35L5.41 20z\"/>\n",
              "  </svg>\n",
              "      </button>\n",
              "      \n",
              "  <style>\n",
              "    .colab-df-container {\n",
              "      display:flex;\n",
              "      flex-wrap:wrap;\n",
              "      gap: 12px;\n",
              "    }\n",
              "\n",
              "    .colab-df-convert {\n",
              "      background-color: #E8F0FE;\n",
              "      border: none;\n",
              "      border-radius: 50%;\n",
              "      cursor: pointer;\n",
              "      display: none;\n",
              "      fill: #1967D2;\n",
              "      height: 32px;\n",
              "      padding: 0 0 0 0;\n",
              "      width: 32px;\n",
              "    }\n",
              "\n",
              "    .colab-df-convert:hover {\n",
              "      background-color: #E2EBFA;\n",
              "      box-shadow: 0px 1px 2px rgba(60, 64, 67, 0.3), 0px 1px 3px 1px rgba(60, 64, 67, 0.15);\n",
              "      fill: #174EA6;\n",
              "    }\n",
              "\n",
              "    [theme=dark] .colab-df-convert {\n",
              "      background-color: #3B4455;\n",
              "      fill: #D2E3FC;\n",
              "    }\n",
              "\n",
              "    [theme=dark] .colab-df-convert:hover {\n",
              "      background-color: #434B5C;\n",
              "      box-shadow: 0px 1px 3px 1px rgba(0, 0, 0, 0.15);\n",
              "      filter: drop-shadow(0px 1px 2px rgba(0, 0, 0, 0.3));\n",
              "      fill: #FFFFFF;\n",
              "    }\n",
              "  </style>\n",
              "\n",
              "      <script>\n",
              "        const buttonEl =\n",
              "          document.querySelector('#df-8197c708-95b7-445a-a605-3040f4071ba5 button.colab-df-convert');\n",
              "        buttonEl.style.display =\n",
              "          google.colab.kernel.accessAllowed ? 'block' : 'none';\n",
              "\n",
              "        async function convertToInteractive(key) {\n",
              "          const element = document.querySelector('#df-8197c708-95b7-445a-a605-3040f4071ba5');\n",
              "          const dataTable =\n",
              "            await google.colab.kernel.invokeFunction('convertToInteractive',\n",
              "                                                     [key], {});\n",
              "          if (!dataTable) return;\n",
              "\n",
              "          const docLinkHtml = 'Like what you see? Visit the ' +\n",
              "            '<a target=\"_blank\" href=https://colab.research.google.com/notebooks/data_table.ipynb>data table notebook</a>'\n",
              "            + ' to learn more about interactive tables.';\n",
              "          element.innerHTML = '';\n",
              "          dataTable['output_type'] = 'display_data';\n",
              "          await google.colab.output.renderOutput(dataTable, element);\n",
              "          const docLink = document.createElement('div');\n",
              "          docLink.innerHTML = docLinkHtml;\n",
              "          element.appendChild(docLink);\n",
              "        }\n",
              "      </script>\n",
              "    </div>\n",
              "  </div>\n",
              "  "
            ]
          },
          "metadata": {},
          "execution_count": 55
        }
      ]
    },
    {
      "cell_type": "code",
      "source": [
        "print(country)"
      ],
      "metadata": {
        "colab": {
          "base_uri": "https://localhost:8080/"
        },
        "id": "glOdseiLIWRD",
        "outputId": "28387b91-00b4-4d37-9d74-15d9029be24e"
      },
      "execution_count": null,
      "outputs": [
        {
          "output_type": "stream",
          "name": "stdout",
          "text": [
            "['Argentina' 'Australia' 'Austria ' 'Belgium' 'Brazil' 'Canada ' 'China'\n",
            " 'Colombia' 'Denmark' 'Egypt' 'France' 'Germany' 'Greece ' 'Hong Kong'\n",
            " 'India ' 'Indonesia' 'Ireland' 'Israel' 'Italy ' 'Japan' 'Malaysia'\n",
            " 'Mexico' 'Netherlands' 'New Zealand' 'Philippines' 'Poland' 'Portugal'\n",
            " 'Romania' 'Saudi Arabia' 'Singapore' 'South Africa' 'South Korea' 'Spain'\n",
            " 'Sweden' 'Switzerland' 'Taiwan ' 'Thailand' 'Turkey'\n",
            " 'United Arab Emirates' 'United Kingdom' 'United States of America'\n",
            " 'Vietnam' 'Worldwide' 'Russia']\n"
          ]
        }
      ]
    },
    {
      "cell_type": "code",
      "source": [
        "plt.title('Bar Chart showing the Total Screen Time Statistics in different Countries')\n",
        "bars = plt.barh(country[19:41], screen_time[19:41], color = 'mediumblue')\n",
        "bars[20].set_color('red')\n",
        "plt.xlabel('Total Screen Time Statistics')\n",
        "plt.ylabel('Countries')\n",
        "plt.xticks(screen_time, rotation=65)\n",
        "plt.margins(0.001)\n",
        "plt.grid()\n",
        "plt.show()"
      ],
      "metadata": {
        "colab": {
          "base_uri": "https://localhost:8080/",
          "height": 316
        },
        "id": "2ZJgv22eIbD6",
        "outputId": "56c561b9-8fc0-46fe-d3de-b2a3ed020737"
      },
      "execution_count": 60,
      "outputs": [
        {
          "output_type": "display_data",
          "data": {
            "text/plain": [
              "<Figure size 432x288 with 1 Axes>"
            ],
            "image/png": "[encoded data removed]"
          },
          "metadata": {
            "needs_background": "light"
          }
        }
      ]
    },
    {
      "cell_type": "code",
      "source": [
        "plt.title('Bar Chart showing the Total Time Spent on Social Media in different Countries')\n",
        "bars = plt.barh(country[19:41], social_media[19:41], color = 'mediumblue')\n",
        "bars[20].set_color('red')\n",
        "plt.xlabel('Time Spent on Social Media')\n",
        "plt.ylabel('Countries')\n",
        "plt.xticks(social_media, rotation=65)\n",
        "plt.margins(0.001)\n",
        "plt.grid()\n",
        "plt.show()"
      ],
      "metadata": {
        "colab": {
          "base_uri": "https://localhost:8080/",
          "height": 316
        },
        "id": "g9YMUyKNRckw",
        "outputId": "db180ad5-ef69-4a8c-aa22-2877258cc8c4"
      },
      "execution_count": 59,
      "outputs": [
        {
          "output_type": "display_data",
          "data": {
            "text/plain": [
              "<Figure size 432x288 with 1 Axes>"
            ],
            "image/png": "[encoded data removed]"
          },
          "metadata": {
            "needs_background": "light"
          }
        }
      ]
    }
  ]
}