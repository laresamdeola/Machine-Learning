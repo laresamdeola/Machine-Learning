{
  "nbformat": 4,
  "nbformat_minor": 0,
  "metadata": {
    "colab": {
      "name": "Diabetes Model.ipynb",
      "provenance": [],
      "collapsed_sections": [],
      "authorship_tag": "ABX9TyP86daQUz5+QyMMbFpIRBD/",
      "include_colab_link": true
    },
    "kernelspec": {
      "name": "python3",
      "display_name": "Python 3"
    },
    "language_info": {
      "name": "python"
    }
  },
  "cells": [
    {
      "cell_type": "markdown",
      "metadata": {
        "id": "view-in-github",
        "colab_type": "text"
      },
      "source": [
        "<a href=\"https://colab.research.google.com/github/laresamdeola/Machine-Learning/blob/main/Diabetes_Model.ipynb\" target=\"_parent\"><img src=\"https://colab.research.google.com/assets/colab-badge.svg\" alt=\"Open In Colab\"/></a>"
      ]
    },
    {
      "cell_type": "code",
      "execution_count": 22,
      "metadata": {
        "id": "EhNqwEVpJ59p"
      },
      "outputs": [],
      "source": [
        "import numpy as np\n",
        "import pandas as pd\n",
        "import matplotlib.pyplot as plt"
      ]
    },
    {
      "cell_type": "code",
      "source": [
        "data = pd.read_csv('diabetes_data_upload.csv')\n",
        "print(data.info())\n",
        "X = data.iloc[:, :-1].values\n",
        "y = data.iloc[:, -1].values"
      ],
      "metadata": {
        "colab": {
          "base_uri": "https://localhost:8080/"
        },
        "id": "Ip2tIugbKUVa",
        "outputId": "7892ff04-f513-4d3a-d5c5-5b4b442c9c0a"
      },
      "execution_count": 23,
      "outputs": [
        {
          "output_type": "stream",
          "name": "stdout",
          "text": [
            "<class 'pandas.core.frame.DataFrame'>\n",
            "RangeIndex: 520 entries, 0 to 519\n",
            "Data columns (total 17 columns):\n",
            " #   Column              Non-Null Count  Dtype \n",
            "---  ------              --------------  ----- \n",
            " 0   Age                 520 non-null    int64 \n",
            " 1   Gender              520 non-null    object\n",
            " 2   Polyuria            520 non-null    object\n",
            " 3   Polydipsia          520 non-null    object\n",
            " 4   sudden weight loss  520 non-null    object\n",
            " 5   weakness            520 non-null    object\n",
            " 6   Polyphagia          520 non-null    object\n",
            " 7   Genital thrush      520 non-null    object\n",
            " 8   visual blurring     520 non-null    object\n",
            " 9   Itching             520 non-null    object\n",
            " 10  Irritability        520 non-null    object\n",
            " 11  delayed healing     520 non-null    object\n",
            " 12  partial paresis     520 non-null    object\n",
            " 13  muscle stiffness    520 non-null    object\n",
            " 14  Alopecia            520 non-null    object\n",
            " 15  Obesity             520 non-null    object\n",
            " 16  class               520 non-null    object\n",
            "dtypes: int64(1), object(16)\n",
            "memory usage: 69.2+ KB\n",
            "None\n"
          ]
        }
      ]
    },
    {
      "cell_type": "code",
      "source": [
        "# Encoding each column manually, there was an issue trying to use One Hot Encoding or Ordinal Encoding.\n",
        "\n",
        "age = X[:, 0]\n",
        "\n",
        "for h in range(0, len(age)):\n",
        "  if age[h] > 65:\n",
        "    age[h] = 0\n",
        "  elif age[h] >= 20 or age[h] <= 65:\n",
        "    age[h] = 1\n",
        "\n",
        "age = age.reshape(-1, 1)\n",
        "\n",
        "gender = X[:, 1]\n",
        "\n",
        "for i in range(0, len(gender)):\n",
        "  if gender[i] == 'Male':\n",
        "    gender[i] = 1\n",
        "  elif gender[i] == 'Female':\n",
        "    gender[i] = 0\n",
        "\n",
        "gender = gender.reshape(-1, 1)\n",
        "\n",
        "# For polyuria\n",
        "\n",
        "polyuria = X[:, 2]\n",
        "\n",
        "for j in range(0, len(polyuria)):\n",
        "  if polyuria[j] == 'Yes':\n",
        "    polyuria[j] = 1\n",
        "  elif polyuria[j] == 'No':\n",
        "    polyuria[j] = 0\n",
        "\n",
        "polyuria = polyuria.reshape(-1, 1)\n",
        "\n",
        "# For Polydipsia\n",
        "\n",
        "polydipsia = X[:, 3]\n",
        "\n",
        "for k in range(0, len(polydipsia)):\n",
        "  if polydipsia[k] == 'Yes':\n",
        "    polydipsia[k] = 1\n",
        "  elif polydipsia[k] == 'No':\n",
        "    polydipsia[k] = 0\n",
        "\n",
        "polydipsia = polydipsia.reshape(-1, 1)\n",
        "\n",
        "# For sudden weight loss\n",
        "\n",
        "weight_loss = X[:, 4]\n",
        "\n",
        "for l in range(0, len(weight_loss)):\n",
        "  if weight_loss[l] == 'Yes':\n",
        "    weight_loss[l] = 1\n",
        "  elif weight_loss[l] == 'No':\n",
        "    weight_loss[l] = 0\n",
        "    \n",
        "weight_loss = weight_loss.reshape(-1, 1)\n",
        "\n",
        "# For weakness\n",
        "\n",
        "weakness = X[:, 5]\n",
        "\n",
        "for m in range(0, len(weakness)):\n",
        "  if weakness[m] == 'Yes':\n",
        "    weakness[m] = 1\n",
        "  elif weakness[m] == 'No':\n",
        "    weakness[m] = 0\n",
        "\n",
        "weakness = weakness.reshape(-1, 1)\n",
        "\n",
        "# For Polyphagia\n",
        "\n",
        "polyphagia = X[:, 6]\n",
        "\n",
        "for n in range(0, len(polyphagia)):\n",
        "  if polyphagia[n] == 'Yes':\n",
        "    polyphagia[n] = 1\n",
        "  elif polyphagia[n] == 'No':\n",
        "    polyphagia[n] = 0\n",
        "    \n",
        "polyphagia = polyphagia.reshape(-1, 1)\n",
        "\n",
        "genital_thrush = X[:, 7]\n",
        "\n",
        "for o in range(0, len(genital_thrush)):\n",
        "  if genital_thrush[o] == 'Yes':\n",
        "    genital_thrush[o] = 1\n",
        "  elif genital_thrush[o] == 'No':\n",
        "    genital_thrush[o] = 0\n",
        "\n",
        "genital_thrush = genital_thrush.reshape(-1, 1)\n",
        "\n",
        "# For visual_blurring\n",
        "\n",
        "visual_blurring = X[:, 8]\n",
        "\n",
        "for p in range(0, len(visual_blurring)):\n",
        "  if visual_blurring[p] == 'Yes':\n",
        "    visual_blurring[p] = 1\n",
        "  elif visual_blurring[p] == 'No':\n",
        "    visual_blurring[p] = 0\n",
        "    \n",
        "visual_blurring = visual_blurring.reshape(-1, 1)\n",
        "\n",
        "itching = X[:, 9]\n",
        "\n",
        "for q in range(0, len(itching)):\n",
        "  if itching[q] == 'Yes':\n",
        "    itching[q] = 1\n",
        "  elif itching[q] == 'No':\n",
        "    itching[q] = 0\n",
        "\n",
        "itching = itching.reshape(-1, 1)\n",
        "\n",
        "# For irritability\n",
        "\n",
        "irritability = X[:, 10]\n",
        "\n",
        "for r in range(0, len(irritability)):\n",
        "  if irritability[r] == 'Yes':\n",
        "    irritability[r] = 1\n",
        "  elif irritability[r] == 'No':\n",
        "    irritability[r] = 0\n",
        "    \n",
        "irritability = irritability.reshape(-1, 1)\n",
        "\n",
        "delayed_healing = X[:, 11]\n",
        "\n",
        "for s in range(0, len(delayed_healing)):\n",
        "  if delayed_healing[s] == 'Yes':\n",
        "    delayed_healing[s] = 1\n",
        "  elif delayed_healing[s] == 'No':\n",
        "    delayed_healing[s] = 0\n",
        "\n",
        "delayed_healing = delayed_healing.reshape(-1, 1)\n",
        "\n",
        "# For paresis\n",
        "\n",
        "paresis = X[:, 12]\n",
        "\n",
        "for t in range(0, len(paresis)):\n",
        "  if paresis[t] == 'Yes':\n",
        "    paresis[t] = 1\n",
        "  elif paresis[t] == 'No':\n",
        "    paresis[t] = 0\n",
        "    \n",
        "paresis = paresis.reshape(-1, 1)\n",
        "\n",
        "muscle_stiffness = X[:, 13]\n",
        "\n",
        "for u in range(0, len(muscle_stiffness)):\n",
        "  if muscle_stiffness[u] == 'Yes':\n",
        "    muscle_stiffness[u] = 1\n",
        "  elif muscle_stiffness[u] == 'No':\n",
        "    muscle_stiffness[u] = 0\n",
        "\n",
        "muscle_stiffness = muscle_stiffness.reshape(-1, 1)\n",
        "\n",
        "# For alopecia\n",
        "\n",
        "alopecia = X[:, 14]\n",
        "\n",
        "for v in range(0, len(alopecia)):\n",
        "  if alopecia[v] == 'Yes':\n",
        "    alopecia[v] = 1\n",
        "  elif alopecia[v] == 'No':\n",
        "    alopecia[v] = 0\n",
        "    \n",
        "alopecia = alopecia.reshape(-1, 1)\n",
        "\n",
        "obesity = X[:, 15]\n",
        "\n",
        "for w in range(0, len(obesity)):\n",
        "  if obesity[w] == 'Yes':\n",
        "    obesity[w] = 1\n",
        "  elif obesity[w] == 'No':\n",
        "    obesity[w] = 0\n",
        "\n",
        "obesity = obesity.reshape(-1, 1)\n",
        "\n",
        "\n",
        "diabetes = y\n",
        "\n",
        "for x in range(0, len(diabetes)):\n",
        "  if diabetes[x] == 'Positive':\n",
        "    diabetes[x] = 1\n",
        "  elif diabetes[x] == 'Negative':\n",
        "    diabetes[x] = 0\n",
        "\n",
        "diabetes = diabetes.reshape(-1, 1)"
      ],
      "metadata": {
        "id": "Wze44b0DMm3G"
      },
      "execution_count": 24,
      "outputs": []
    },
    {
      "cell_type": "code",
      "source": [
        "# To combine all the encoded features and put them into the feature variable.\n",
        "\n",
        "categories = np.concatenate(([age, gender, polyuria, polydipsia, weight_loss, weakness, polyphagia, genital_thrush, visual_blurring, itching, irritability, delayed_healing, paresis, muscle_stiffness, alopecia, obesity]), 1)\n",
        "\n",
        "# Checking for the shape of the features variable and dependent variable. \n",
        "\n",
        "print(categories.shape)\n",
        "print(categories.shape)"
      ],
      "metadata": {
        "colab": {
          "base_uri": "https://localhost:8080/"
        },
        "id": "Z8wJufihaGWy",
        "outputId": "e3398483-5037-40ea-94cd-b25299b1209e"
      },
      "execution_count": 25,
      "outputs": [
        {
          "output_type": "stream",
          "name": "stdout",
          "text": [
            "(520, 16)\n",
            "(520, 16)\n"
          ]
        }
      ]
    },
    {
      "cell_type": "code",
      "source": [
        "from sklearn.model_selection import train_test_split\n",
        "categories_train, categories_test, diabetes_train, diabetes_test = train_test_split(categories, diabetes, test_size = 0.25, random_state = 0)"
      ],
      "metadata": {
        "id": "PAJXnr-xkRg6"
      },
      "execution_count": 26,
      "outputs": []
    },
    {
      "cell_type": "code",
      "source": [
        "from sklearn.linear_model import LogisticRegression\n",
        "classifier = LogisticRegression(random_state=0)\n",
        "\n",
        "# I had to cast the dependent variable as an 'int'. In the original data, it was an 'int64', but got an error that\n",
        "# it had become a column vector instead of a 1d array\n",
        "\n",
        "diabetes_train = diabetes_train.astype('int')\n",
        "\n",
        "# Making the dependent variable a 1d array\n",
        "\n",
        "diabetes_train = diabetes_train.ravel()\n",
        "\n",
        "# Fitting the Logistic Regression Model\n",
        "\n",
        "classifier.fit(categories_train, diabetes_train)"
      ],
      "metadata": {
        "colab": {
          "base_uri": "https://localhost:8080/"
        },
        "id": "bghr78LTlf93",
        "outputId": "df3314fb-d3c0-4c94-c663-dab89d1d7769"
      },
      "execution_count": 27,
      "outputs": [
        {
          "output_type": "execute_result",
          "data": {
            "text/plain": [
              "LogisticRegression(random_state=0)"
            ]
          },
          "metadata": {},
          "execution_count": 27
        }
      ]
    },
    {
      "cell_type": "code",
      "source": [
        "print(diabetes_train.ndim)\n",
        "print(categories_train.ndim)"
      ],
      "metadata": {
        "colab": {
          "base_uri": "https://localhost:8080/"
        },
        "id": "2-Ay_BN9tMTj",
        "outputId": "3051a27a-fc81-4d14-d604-26a1b4fc250b"
      },
      "execution_count": 28,
      "outputs": [
        {
          "output_type": "stream",
          "name": "stdout",
          "text": [
            "1\n",
            "2\n"
          ]
        }
      ]
    },
    {
      "cell_type": "code",
      "source": [
        "print(diabetes_train.shape)\n",
        "print(categories_train.shape)"
      ],
      "metadata": {
        "colab": {
          "base_uri": "https://localhost:8080/"
        },
        "id": "BV_IcsJWocCn",
        "outputId": "6522cbb6-9189-4dbd-e0f1-9b306002d9a3"
      },
      "execution_count": 29,
      "outputs": [
        {
          "output_type": "stream",
          "name": "stdout",
          "text": [
            "(390,)\n",
            "(390, 16)\n"
          ]
        }
      ]
    },
    {
      "cell_type": "code",
      "source": [
        "diabetes_pred = classifier.predict(categories_test)\n",
        "print(np.concatenate((diabetes_pred.reshape(len(diabetes_pred), 1), diabetes_test.reshape(len(diabetes_test), 1)), 1))"
      ],
      "metadata": {
        "colab": {
          "base_uri": "https://localhost:8080/"
        },
        "id": "8n0_SiI1EVkc",
        "outputId": "617dd21e-8bce-40a1-b4df-8db44cc358a8"
      },
      "execution_count": 30,
      "outputs": [
        {
          "output_type": "stream",
          "name": "stdout",
          "text": [
            "[[1 1]\n",
            " [1 1]\n",
            " [1 1]\n",
            " [0 0]\n",
            " [0 0]\n",
            " [1 1]\n",
            " [1 1]\n",
            " [1 1]\n",
            " [0 1]\n",
            " [1 1]\n",
            " [1 1]\n",
            " [0 0]\n",
            " [1 1]\n",
            " [1 1]\n",
            " [1 1]\n",
            " [1 1]\n",
            " [1 0]\n",
            " [1 1]\n",
            " [1 1]\n",
            " [1 1]\n",
            " [1 1]\n",
            " [1 1]\n",
            " [1 1]\n",
            " [0 0]\n",
            " [0 0]\n",
            " [0 0]\n",
            " [1 1]\n",
            " [1 1]\n",
            " [1 0]\n",
            " [1 1]\n",
            " [1 1]\n",
            " [0 0]\n",
            " [1 0]\n",
            " [1 1]\n",
            " [1 1]\n",
            " [1 1]\n",
            " [1 1]\n",
            " [0 0]\n",
            " [1 1]\n",
            " [1 1]\n",
            " [1 1]\n",
            " [0 0]\n",
            " [1 1]\n",
            " [0 0]\n",
            " [0 0]\n",
            " [1 1]\n",
            " [1 1]\n",
            " [0 0]\n",
            " [1 1]\n",
            " [0 0]\n",
            " [1 1]\n",
            " [0 0]\n",
            " [1 1]\n",
            " [0 0]\n",
            " [1 1]\n",
            " [0 1]\n",
            " [1 1]\n",
            " [1 1]\n",
            " [1 1]\n",
            " [1 1]\n",
            " [0 0]\n",
            " [0 0]\n",
            " [1 1]\n",
            " [0 0]\n",
            " [1 1]\n",
            " [0 0]\n",
            " [1 1]\n",
            " [0 0]\n",
            " [1 1]\n",
            " [1 1]\n",
            " [0 0]\n",
            " [0 0]\n",
            " [1 1]\n",
            " [1 1]\n",
            " [0 0]\n",
            " [1 1]\n",
            " [0 0]\n",
            " [1 1]\n",
            " [1 1]\n",
            " [0 0]\n",
            " [1 1]\n",
            " [1 1]\n",
            " [0 0]\n",
            " [0 0]\n",
            " [1 1]\n",
            " [1 0]\n",
            " [1 1]\n",
            " [1 1]\n",
            " [0 0]\n",
            " [0 0]\n",
            " [0 0]\n",
            " [0 0]\n",
            " [0 0]\n",
            " [0 0]\n",
            " [0 0]\n",
            " [1 1]\n",
            " [1 1]\n",
            " [1 1]\n",
            " [1 1]\n",
            " [0 0]\n",
            " [0 0]\n",
            " [1 1]\n",
            " [1 1]\n",
            " [1 1]\n",
            " [0 0]\n",
            " [1 0]\n",
            " [1 1]\n",
            " [0 0]\n",
            " [1 1]\n",
            " [0 0]\n",
            " [1 0]\n",
            " [0 0]\n",
            " [1 1]\n",
            " [0 0]\n",
            " [1 1]\n",
            " [0 1]\n",
            " [0 0]\n",
            " [1 1]\n",
            " [1 0]\n",
            " [0 0]\n",
            " [0 0]\n",
            " [1 1]\n",
            " [1 1]\n",
            " [0 0]\n",
            " [1 1]\n",
            " [1 1]\n",
            " [0 0]\n",
            " [0 0]\n",
            " [0 0]\n",
            " [0 0]]\n"
          ]
        }
      ]
    },
    {
      "cell_type": "code",
      "source": [
        "# Transforming the dependent variable's test data into a 1d array.\n",
        "\n",
        "diabetes_test = diabetes_test.ravel()\n",
        "print(diabetes_test.shape)\n",
        "print(diabetes_pred.shape)"
      ],
      "metadata": {
        "colab": {
          "base_uri": "https://localhost:8080/"
        },
        "id": "fXWpiLh6FRG9",
        "outputId": "cb6f4bde-3007-4f61-fff6-8081455c4604"
      },
      "execution_count": 31,
      "outputs": [
        {
          "output_type": "stream",
          "name": "stdout",
          "text": [
            "(130,)\n",
            "(130,)\n"
          ]
        }
      ]
    },
    {
      "cell_type": "code",
      "source": [
        "from sklearn.metrics import confusion_matrix, accuracy_score\n",
        "confusion = confusion_matrix(list(diabetes_test), diabetes_pred)\n",
        "print(confusion)\n",
        "accuracy_score(list(diabetes_test), diabetes_pred)"
      ],
      "metadata": {
        "colab": {
          "base_uri": "https://localhost:8080/"
        },
        "id": "w2xcjnHlEhxb",
        "outputId": "2e4f414d-b7f6-40d6-bec0-66a0a69d32fb"
      },
      "execution_count": 32,
      "outputs": [
        {
          "output_type": "stream",
          "name": "stdout",
          "text": [
            "[[49  7]\n",
            " [ 3 71]]\n"
          ]
        },
        {
          "output_type": "execute_result",
          "data": {
            "text/plain": [
              "0.9230769230769231"
            ]
          },
          "metadata": {},
          "execution_count": 32
        }
      ]
    }
  ]
}