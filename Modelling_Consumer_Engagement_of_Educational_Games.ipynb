{
  "nbformat": 4,
  "nbformat_minor": 0,
  "metadata": {
    "colab": {
      "provenance": [],
      "authorship_tag": "ABX9TyPbfHkIdTf0vQP5jjfaPFSm"
    },
    "kernelspec": {
      "name": "python3",
      "display_name": "Python 3"
    },
    "language_info": {
      "name": "python"
    }
  },
  "cells": [
    {
      "cell_type": "code",
      "execution_count": 1,
      "metadata": {
        "id": "N3Y4vwqoxiCm"
      },
      "outputs": [],
      "source": [
        "import pandas as pd\n",
        "import numpy as np\n",
        "import matplotlib.pyplot as plt\n",
        "import random"
      ]
    },
    {
      "cell_type": "code",
      "source": [
        "np.random.seed(42)"
      ],
      "metadata": {
        "id": "lv5QzAqMyhtX"
      },
      "execution_count": 2,
      "outputs": []
    },
    {
      "cell_type": "code",
      "source": [
        "educative = np.random.choice(['True', 'False', 'Fair'], size=100000)\n",
        "new_knowledge_learnt = np.random.choice(['Yes', 'No', 'Maybe'], size=100000)\n",
        "field_study_fondness = np.random.choice(['I dont like it', 'manageable', 'fair', 'enjoyable', 'love it'], size=100000)\n",
        "course_challenging = np.random.choice(['Very Challenging', 'Challenging', 'Fair', 'Not Challenging', 'Easy'], size=100000)\n",
        "hours_reading_materials = np.random.choice(['0 to 1', '2 to 4', '5 and above'], size=100000)\n",
        "hours_playing_games = np.random.choice(['0 to 1', '2 to 4', '5 and above'], size=100000)\n",
        "games_enjoyment = np.random.randint(1, 11, size=100000)\n",
        "favourite_popular_game = np.random.choice(['Chess', 'Temple Run', 'Tetris', 'Candy Crush'], size=100000)\n",
        "favourite_hobby = np.random.choice([\n",
        "    'Reading', 'Music', 'Socializing', 'Sports and Fitness Training',\n",
        "    'Movies', 'Creative', 'Video Games', 'Dancing', 'Food', 'Writing', 'Creating Content'\n",
        "], size=100000)\n",
        "hours_social_media = np.random.choice(['0 to 1', '2 to 4', '5 and above'], size=100000)\n",
        "introvert_or_extrovert = np.random.choice(['Staying Home', 'Going out', 'A mix of both'], size=100000)\n",
        "game_enjoyment = np.random.randint(1, 11, size=100000)"
      ],
      "metadata": {
        "id": "SMFbDy4Cykn-"
      },
      "execution_count": 7,
      "outputs": []
    },
    {
      "cell_type": "code",
      "source": [
        "data = pd.DataFrame({\n",
        "    'Educative': educative,\n",
        "    'New Knowledge': new_knowledge_learnt,\n",
        "    'Fondness of Study Field': field_study_fondness,\n",
        "    'Challenge of Course': course_challenging,\n",
        "    'Hours Reading': hours_reading_materials,\n",
        "    'Hours Playing': hours_playing_games,\n",
        "    'Games Enjoyment': games_enjoyment,\n",
        "    'Fav Popular Game': favourite_popular_game,\n",
        "    'Fav Hobby': favourite_hobby,\n",
        "    'Social Media Hours': hours_social_media,\n",
        "    'Social Trait': introvert_or_extrovert,\n",
        "    'Game Enjoyment': game_enjoyment\n",
        "})"
      ],
      "metadata": {
        "id": "H_-CTbq9xlIt"
      },
      "execution_count": 8,
      "outputs": []
    },
    {
      "cell_type": "code",
      "source": [
        "data.to_csv('education_synthetic_survey_2.csv', index=False)"
      ],
      "metadata": {
        "id": "hEdvgLKyxlP8"
      },
      "execution_count": 9,
      "outputs": []
    }
  ]
}