{
  "nbformat": 4,
  "nbformat_minor": 0,
  "metadata": {
    "colab": {
      "name": "Auto Insurance in Sweden.ipynb",
      "provenance": [],
      "collapsed_sections": [],
      "authorship_tag": "ABX9TyOeCpNgU61IbDjdI7f9iDzd",
      "include_colab_link": true
    },
    "kernelspec": {
      "name": "python3",
      "display_name": "Python 3"
    },
    "language_info": {
      "name": "python"
    }
  },
  "cells": [
    {
      "cell_type": "markdown",
      "metadata": {
        "id": "view-in-github",
        "colab_type": "text"
      },
      "source": [
        "<a href=\"https://colab.research.google.com/github/laresamdeola/Machine-Learning/blob/main/Auto_Insurance_in_Sweden.ipynb\" target=\"_parent\"><img src=\"https://colab.research.google.com/assets/colab-badge.svg\" alt=\"Open In Colab\"/></a>"
      ]
    },
    {
      "cell_type": "code",
      "execution_count": 1,
      "metadata": {
        "id": "u7mlzCfPnmHp"
      },
      "outputs": [],
      "source": [
        "import numpy as np\n",
        "import matplotlib.pyplot as plt\n",
        "import pandas as pd"
      ]
    },
    {
      "cell_type": "code",
      "source": [
        "data = pd.read_csv(\"Auto Insurance in Sweden 2.csv\")\n",
        "X = data.iloc[:, :1].values\n",
        "y = data.iloc[:, -1].values"
      ],
      "metadata": {
        "id": "f83JlLWJnq79"
      },
      "execution_count": 2,
      "outputs": []
    },
    {
      "cell_type": "code",
      "source": [
        "print(X)"
      ],
      "metadata": {
        "colab": {
          "base_uri": "https://localhost:8080/"
        },
        "id": "ziX3Jo_5nrC8",
        "outputId": "7b29245f-33db-4e3d-e044-c58515448c60"
      },
      "execution_count": 3,
      "outputs": [
        {
          "output_type": "stream",
          "name": "stdout",
          "text": [
            "[[108]\n",
            " [ 19]\n",
            " [ 13]\n",
            " [124]\n",
            " [ 40]\n",
            " [ 57]\n",
            " [ 23]\n",
            " [ 14]\n",
            " [ 45]\n",
            " [ 10]\n",
            " [  5]\n",
            " [ 48]\n",
            " [ 11]\n",
            " [ 23]\n",
            " [  7]\n",
            " [  2]\n",
            " [ 24]\n",
            " [  6]\n",
            " [  3]\n",
            " [ 23]\n",
            " [  6]\n",
            " [  9]\n",
            " [  9]\n",
            " [  3]\n",
            " [ 29]\n",
            " [  7]\n",
            " [  4]\n",
            " [ 20]\n",
            " [  7]\n",
            " [  4]\n",
            " [  0]\n",
            " [ 25]\n",
            " [  6]\n",
            " [  5]\n",
            " [ 22]\n",
            " [ 11]\n",
            " [ 61]\n",
            " [ 12]\n",
            " [  4]\n",
            " [ 16]\n",
            " [ 13]\n",
            " [ 60]\n",
            " [ 41]\n",
            " [ 37]\n",
            " [ 55]\n",
            " [ 41]\n",
            " [ 11]\n",
            " [ 27]\n",
            " [  8]\n",
            " [  3]\n",
            " [ 17]\n",
            " [ 13]\n",
            " [ 13]\n",
            " [ 15]\n",
            " [  8]\n",
            " [ 29]\n",
            " [ 30]\n",
            " [ 24]\n",
            " [  9]\n",
            " [ 31]\n",
            " [ 14]\n",
            " [ 53]\n",
            " [ 26]]\n"
          ]
        }
      ]
    },
    {
      "cell_type": "code",
      "source": [
        "print(y)"
      ],
      "metadata": {
        "colab": {
          "base_uri": "https://localhost:8080/"
        },
        "id": "FdPvJmFGnrH8",
        "outputId": "7a75700f-131e-493f-afbd-e84054431e4a"
      },
      "execution_count": 4,
      "outputs": [
        {
          "output_type": "stream",
          "name": "stdout",
          "text": [
            "[392.5  46.2  15.7 422.2 119.4 170.9  56.9  77.5 214.   65.3  20.9 248.1\n",
            "  23.5  39.6  48.8   6.6 134.9  50.9   4.4 113.   14.8  48.7  52.1  13.2\n",
            " 103.9  77.5  11.8  98.1  27.9  38.1   0.   69.2  14.6  40.3 161.5  57.2\n",
            " 217.6  58.1  12.6  59.6  89.9 202.4 181.3 152.8 162.8  73.4  21.3  92.6\n",
            "  76.1  39.9 142.1  93.   31.9  32.1  55.6 133.3 194.5 137.9  87.4 209.8\n",
            "  95.5 244.6 187.5]\n"
          ]
        }
      ]
    },
    {
      "cell_type": "code",
      "source": [
        "from sklearn.tree import DecisionTreeRegressor\n",
        "regressor = DecisionTreeRegressor(random_state=0)\n",
        "regressor.fit(X,y)"
      ],
      "metadata": {
        "colab": {
          "base_uri": "https://localhost:8080/"
        },
        "id": "xsFcTUq2nrMM",
        "outputId": "03525098-22bc-45c1-c7df-bdd155deba5e"
      },
      "execution_count": 5,
      "outputs": [
        {
          "output_type": "execute_result",
          "data": {
            "text/plain": [
              "DecisionTreeRegressor(random_state=0)"
            ]
          },
          "metadata": {},
          "execution_count": 5
        }
      ]
    },
    {
      "cell_type": "code",
      "source": [
        "regressor.predict([[45]])"
      ],
      "metadata": {
        "colab": {
          "base_uri": "https://localhost:8080/"
        },
        "id": "RXzoBuKFnrQN",
        "outputId": "910fd3c3-1acb-4fdc-9e1b-f5b9c30bd812"
      },
      "execution_count": 9,
      "outputs": [
        {
          "output_type": "execute_result",
          "data": {
            "text/plain": [
              "array([214.])"
            ]
          },
          "metadata": {},
          "execution_count": 9
        }
      ]
    },
    {
      "cell_type": "code",
      "source": [
        "X_grid = np.arange(min(X), max(X), 0.5)\n",
        "X_grid = X_grid.reshape((len(X_grid), 1))\n",
        "plt.scatter(X, y, color='blue')\n",
        "plt.plot(X_grid, regressor.predict(X_grid), color='red')\n",
        "plt.title(\"Auto Insurance in Sweden\")\n",
        "plt.xlabel(\"number of claims\")\n",
        "plt.ylabel(\"total payment for all the claims in thousands of Swedish Kronor\")\n",
        "plt.show()"
      ],
      "metadata": {
        "colab": {
          "base_uri": "https://localhost:8080/",
          "height": 349
        },
        "id": "qOWcFecbnrUG",
        "outputId": "b4cbfc52-6934-43e5-81bf-08d4d3534078"
      },
      "execution_count": 10,
      "outputs": [
        {
          "output_type": "display_data",
          "data": {
            "image/png": "[encoded data removed]",
            "text/plain": [
              "<Figure size 432x288 with 1 Axes>"
            ]
          },
          "metadata": {
            "needs_background": "light"
          }
        }
      ]
    }
  ]
}