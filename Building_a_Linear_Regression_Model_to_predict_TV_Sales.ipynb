{
  "nbformat": 4,
  "nbformat_minor": 0,
  "metadata": {
    "colab": {
      "provenance": [],
      "authorship_tag": "ABX9TyPzm4OOMrHk+p2zwdXKJr98",
      "include_colab_link": true
    },
    "kernelspec": {
      "name": "python3",
      "display_name": "Python 3"
    },
    "language_info": {
      "name": "python"
    }
  },
  "cells": [
    {
      "cell_type": "markdown",
      "metadata": {
        "id": "view-in-github",
        "colab_type": "text"
      },
      "source": [
        "<a href=\"https://colab.research.google.com/github/laresamdeola/Machine-Learning/blob/main/Building_a_Linear_Regression_Model_to_predict_TV_Sales.ipynb\" target=\"_parent\"><img src=\"https://colab.research.google.com/assets/colab-badge.svg\" alt=\"Open In Colab\"/></a>"
      ]
    },
    {
      "cell_type": "markdown",
      "source": [
        "APPLIED MACHINE LEARNING: BUILDING A LINEAR REGRESSION MODEL TO PREDICT THE IMPACT OF TV MARKETING ON TV SALES."
      ],
      "metadata": {
        "id": "sonyDdAaztLm"
      }
    },
    {
      "cell_type": "code",
      "source": [],
      "metadata": {
        "id": "GVrrEhNi17h4"
      },
      "execution_count": 1,
      "outputs": []
    }
  ]
}