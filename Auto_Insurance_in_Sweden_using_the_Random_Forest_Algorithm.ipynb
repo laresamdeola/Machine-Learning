{
  "nbformat": 4,
  "nbformat_minor": 0,
  "metadata": {
    "colab": {
      "name": "Auto Insurance in Sweden using the Random Forest Algorithm.ipynb",
      "provenance": [],
      "collapsed_sections": [],
      "authorship_tag": "ABX9TyPd6/vky3xgNbz3LcDYLcng",
      "include_colab_link": true
    },
    "kernelspec": {
      "name": "python3",
      "display_name": "Python 3"
    },
    "language_info": {
      "name": "python"
    }
  },
  "cells": [
    {
      "cell_type": "markdown",
      "metadata": {
        "id": "view-in-github",
        "colab_type": "text"
      },
      "source": [
        "<a href=\"https://colab.research.google.com/github/laresamdeola/Machine-Learning/blob/main/Auto_Insurance_in_Sweden_using_the_Random_Forest_Algorithm.ipynb\" target=\"_parent\"><img src=\"https://colab.research.google.com/assets/colab-badge.svg\" alt=\"Open In Colab\"/></a>"
      ]
    },
    {
      "cell_type": "code",
      "execution_count": 1,
      "metadata": {
        "id": "JWw9uKtEibPF"
      },
      "outputs": [],
      "source": [
        "import numpy as np\n",
        "import matplotlib.pyplot as plt\n",
        "import pandas as pd"
      ]
    },
    {
      "cell_type": "code",
      "source": [
        "data = pd.read_csv('Auto Insurance in Sweden 2.csv')\n",
        "X = data.iloc[:, :-1].values\n",
        "y = data.iloc[:, -1].values"
      ],
      "metadata": {
        "id": "8asnfX21is9Z"
      },
      "execution_count": 2,
      "outputs": []
    },
    {
      "cell_type": "code",
      "source": [
        "print(X)"
      ],
      "metadata": {
        "colab": {
          "base_uri": "https://localhost:8080/"
        },
        "id": "32z4mu1Ti-9B",
        "outputId": "2661037e-a319-4fe4-f7ba-693740128f9e"
      },
      "execution_count": 3,
      "outputs": [
        {
          "output_type": "stream",
          "name": "stdout",
          "text": [
            "[[108]\n",
            " [ 19]\n",
            " [ 13]\n",
            " [124]\n",
            " [ 40]\n",
            " [ 57]\n",
            " [ 23]\n",
            " [ 14]\n",
            " [ 45]\n",
            " [ 10]\n",
            " [  5]\n",
            " [ 48]\n",
            " [ 11]\n",
            " [ 23]\n",
            " [  7]\n",
            " [  2]\n",
            " [ 24]\n",
            " [  6]\n",
            " [  3]\n",
            " [ 23]\n",
            " [  6]\n",
            " [  9]\n",
            " [  9]\n",
            " [  3]\n",
            " [ 29]\n",
            " [  7]\n",
            " [  4]\n",
            " [ 20]\n",
            " [  7]\n",
            " [  4]\n",
            " [  0]\n",
            " [ 25]\n",
            " [  6]\n",
            " [  5]\n",
            " [ 22]\n",
            " [ 11]\n",
            " [ 61]\n",
            " [ 12]\n",
            " [  4]\n",
            " [ 16]\n",
            " [ 13]\n",
            " [ 60]\n",
            " [ 41]\n",
            " [ 37]\n",
            " [ 55]\n",
            " [ 41]\n",
            " [ 11]\n",
            " [ 27]\n",
            " [  8]\n",
            " [  3]\n",
            " [ 17]\n",
            " [ 13]\n",
            " [ 13]\n",
            " [ 15]\n",
            " [  8]\n",
            " [ 29]\n",
            " [ 30]\n",
            " [ 24]\n",
            " [  9]\n",
            " [ 31]\n",
            " [ 14]\n",
            " [ 53]\n",
            " [ 26]]\n"
          ]
        }
      ]
    },
    {
      "cell_type": "code",
      "source": [
        "y = y.reshape(len(y), 1)\n",
        "print(y)"
      ],
      "metadata": {
        "colab": {
          "base_uri": "https://localhost:8080/"
        },
        "id": "WyNTkJ0UjAhp",
        "outputId": "e783e2cb-6343-4306-8a81-65288a5bef73"
      },
      "execution_count": 12,
      "outputs": [
        {
          "output_type": "stream",
          "name": "stdout",
          "text": [
            "[[392.5]\n",
            " [ 46.2]\n",
            " [ 15.7]\n",
            " [422.2]\n",
            " [119.4]\n",
            " [170.9]\n",
            " [ 56.9]\n",
            " [ 77.5]\n",
            " [214. ]\n",
            " [ 65.3]\n",
            " [ 20.9]\n",
            " [248.1]\n",
            " [ 23.5]\n",
            " [ 39.6]\n",
            " [ 48.8]\n",
            " [  6.6]\n",
            " [134.9]\n",
            " [ 50.9]\n",
            " [  4.4]\n",
            " [113. ]\n",
            " [ 14.8]\n",
            " [ 48.7]\n",
            " [ 52.1]\n",
            " [ 13.2]\n",
            " [103.9]\n",
            " [ 77.5]\n",
            " [ 11.8]\n",
            " [ 98.1]\n",
            " [ 27.9]\n",
            " [ 38.1]\n",
            " [  0. ]\n",
            " [ 69.2]\n",
            " [ 14.6]\n",
            " [ 40.3]\n",
            " [161.5]\n",
            " [ 57.2]\n",
            " [217.6]\n",
            " [ 58.1]\n",
            " [ 12.6]\n",
            " [ 59.6]\n",
            " [ 89.9]\n",
            " [202.4]\n",
            " [181.3]\n",
            " [152.8]\n",
            " [162.8]\n",
            " [ 73.4]\n",
            " [ 21.3]\n",
            " [ 92.6]\n",
            " [ 76.1]\n",
            " [ 39.9]\n",
            " [142.1]\n",
            " [ 93. ]\n",
            " [ 31.9]\n",
            " [ 32.1]\n",
            " [ 55.6]\n",
            " [133.3]\n",
            " [194.5]\n",
            " [137.9]\n",
            " [ 87.4]\n",
            " [209.8]\n",
            " [ 95.5]\n",
            " [244.6]\n",
            " [187.5]]\n"
          ]
        }
      ]
    },
    {
      "cell_type": "code",
      "source": [
        "from sklearn.model_selection import train_test_split\n",
        "X_train,X_test,y_train,y_test = train_test_split(X, y, test_size=0.25, random_state=0)\n",
        "print(X_train)\n",
        "print(y_train)"
      ],
      "metadata": {
        "colab": {
          "base_uri": "https://localhost:8080/"
        },
        "id": "8RsImgYijE4o",
        "outputId": "04fad7dd-4e37-40c3-a2d4-2f1fad858402"
      },
      "execution_count": 13,
      "outputs": [
        {
          "output_type": "stream",
          "name": "stdout",
          "text": [
            "[[ 11]\n",
            " [ 41]\n",
            " [  7]\n",
            " [ 14]\n",
            " [  7]\n",
            " [  9]\n",
            " [ 41]\n",
            " [  8]\n",
            " [ 13]\n",
            " [ 60]\n",
            " [ 24]\n",
            " [  3]\n",
            " [ 31]\n",
            " [ 25]\n",
            " [  2]\n",
            " [  0]\n",
            " [ 57]\n",
            " [ 24]\n",
            " [  6]\n",
            " [ 29]\n",
            " [ 45]\n",
            " [ 23]\n",
            " [  7]\n",
            " [ 12]\n",
            " [  6]\n",
            " [ 53]\n",
            " [ 13]\n",
            " [ 30]\n",
            " [  4]\n",
            " [ 19]\n",
            " [ 11]\n",
            " [  8]\n",
            " [ 29]\n",
            " [ 23]\n",
            " [  3]\n",
            " [ 61]\n",
            " [ 17]\n",
            " [  9]\n",
            " [ 23]\n",
            " [ 10]\n",
            " [ 16]\n",
            " [  9]\n",
            " [124]\n",
            " [108]\n",
            " [ 15]\n",
            " [ 27]\n",
            " [ 55]]\n",
            "[[ 57.2]\n",
            " [ 73.4]\n",
            " [ 27.9]\n",
            " [ 77.5]\n",
            " [ 48.8]\n",
            " [ 52.1]\n",
            " [181.3]\n",
            " [ 55.6]\n",
            " [ 89.9]\n",
            " [202.4]\n",
            " [137.9]\n",
            " [  4.4]\n",
            " [209.8]\n",
            " [ 69.2]\n",
            " [  6.6]\n",
            " [  0. ]\n",
            " [170.9]\n",
            " [134.9]\n",
            " [ 14.8]\n",
            " [133.3]\n",
            " [214. ]\n",
            " [ 39.6]\n",
            " [ 77.5]\n",
            " [ 58.1]\n",
            " [ 50.9]\n",
            " [244.6]\n",
            " [ 31.9]\n",
            " [194.5]\n",
            " [ 12.6]\n",
            " [ 46.2]\n",
            " [ 23.5]\n",
            " [ 76.1]\n",
            " [103.9]\n",
            " [ 56.9]\n",
            " [ 13.2]\n",
            " [217.6]\n",
            " [142.1]\n",
            " [ 48.7]\n",
            " [113. ]\n",
            " [ 65.3]\n",
            " [ 59.6]\n",
            " [ 87.4]\n",
            " [422.2]\n",
            " [392.5]\n",
            " [ 32.1]\n",
            " [ 92.6]\n",
            " [162.8]]\n"
          ]
        }
      ]
    },
    {
      "cell_type": "code",
      "source": [
        "from sklearn.ensemble import RandomForestRegressor\n",
        "regressor = RandomForestRegressor(n_estimators=100)\n",
        "regressor.fit(X_train,y_train)"
      ],
      "metadata": {
        "colab": {
          "base_uri": "https://localhost:8080/"
        },
        "id": "WdwYFUY4qCWA",
        "outputId": "fefbb7a1-2e7c-458f-8784-99da412d5682"
      },
      "execution_count": 14,
      "outputs": [
        {
          "output_type": "stream",
          "name": "stderr",
          "text": [
            "/usr/local/lib/python3.7/dist-packages/ipykernel_launcher.py:3: DataConversionWarning: A column-vector y was passed when a 1d array was expected. Please change the shape of y to (n_samples,), for example using ravel().\n",
            "  This is separate from the ipykernel package so we can avoid doing imports until\n"
          ]
        },
        {
          "output_type": "execute_result",
          "data": {
            "text/plain": [
              "RandomForestRegressor()"
            ]
          },
          "metadata": {},
          "execution_count": 14
        }
      ]
    },
    {
      "cell_type": "code",
      "source": [
        "y_pred = regressor.predict(X_test)\n",
        "np.set_printoptions(precision=2)\n",
        "print(np.concatenate((y_pred.reshape(len(y_pred), 1), y_test.reshape(len(y_test), 1)), 1))"
      ],
      "metadata": {
        "colab": {
          "base_uri": "https://localhost:8080/"
        },
        "id": "6l7MGd2gqRaG",
        "outputId": "6ede3880-1d4e-4b49-ce67-8cb241b29c03"
      },
      "execution_count": 15,
      "outputs": [
        {
          "output_type": "stream",
          "name": "stdout",
          "text": [
            "[[136.94 152.8 ]\n",
            " [  8.88  39.9 ]\n",
            " [ 85.52 187.5 ]\n",
            " [ 61.4   93.  ]\n",
            " [ 35.28  14.6 ]\n",
            " [ 69.84 161.5 ]\n",
            " [ 11.56  38.1 ]\n",
            " [ 42.1   21.3 ]\n",
            " [214.73 248.1 ]\n",
            " [ 61.4   15.7 ]\n",
            " [ 11.56  11.8 ]\n",
            " [ 69.84  95.5 ]\n",
            " [138.28 119.4 ]\n",
            " [ 18.61  20.9 ]\n",
            " [ 77.16  98.1 ]\n",
            " [ 18.61  40.3 ]]\n"
          ]
        }
      ]
    },
    {
      "cell_type": "code",
      "source": [
        "from sklearn.metrics import r2_score\n",
        "r2_score(y_test, y_pred)"
      ],
      "metadata": {
        "colab": {
          "base_uri": "https://localhost:8080/"
        },
        "id": "vzPpt8vFrgtQ",
        "outputId": "bf59d72a-d44c-415e-8ce6-0c99017cea38"
      },
      "execution_count": 16,
      "outputs": [
        {
          "output_type": "execute_result",
          "data": {
            "text/plain": [
              "0.6474498596725324"
            ]
          },
          "metadata": {},
          "execution_count": 16
        }
      ]
    }
  ]
}