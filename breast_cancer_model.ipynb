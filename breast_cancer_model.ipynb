{
  "nbformat": 4,
  "nbformat_minor": 0,
  "metadata": {
    "colab": {
      "name": "breast-cancer-model.ipynb",
      "provenance": [],
      "collapsed_sections": [],
      "authorship_tag": "ABX9TyPhcj6VD8+RQN9MmyF3qVSG"
    },
    "kernelspec": {
      "name": "python3",
      "display_name": "Python 3"
    },
    "language_info": {
      "name": "python"
    }
  },
  "cells": [
    {
      "cell_type": "code",
      "execution_count": 1,
      "metadata": {
        "id": "TN64iya1hhR8"
      },
      "outputs": [],
      "source": [
        "import numpy as np\n",
        "import pandas as pd\n",
        "import tensorflow as tf"
      ]
    },
    {
      "cell_type": "code",
      "source": [
        "data = pd.read_csv('breast-cancer-clean.csv')\n",
        "X = data.iloc[:, 1:].values\n",
        "y = data.iloc[:, 0].values"
      ],
      "metadata": {
        "id": "tWwai2u1hp1G"
      },
      "execution_count": 32,
      "outputs": []
    },
    {
      "cell_type": "code",
      "source": [
        "data.info()"
      ],
      "metadata": {
        "colab": {
          "base_uri": "https://localhost:8080/"
        },
        "id": "xbooqSKZTZZ_",
        "outputId": "c04177b7-51b2-4384-cd2e-8461dc22d747"
      },
      "execution_count": 33,
      "outputs": [
        {
          "output_type": "stream",
          "name": "stdout",
          "text": [
            "<class 'pandas.core.frame.DataFrame'>\n",
            "RangeIndex: 276 entries, 0 to 275\n",
            "Data columns (total 10 columns):\n",
            " #   Column                Non-Null Count  Dtype \n",
            "---  ------                --------------  ----- \n",
            " 0   no-recurrence-events  276 non-null    object\n",
            " 1   30-39                 276 non-null    object\n",
            " 2   premeno               276 non-null    object\n",
            " 3   30-34                 276 non-null    object\n",
            " 4   0-2                   276 non-null    object\n",
            " 5   no                    276 non-null    object\n",
            " 6   3                     276 non-null    int64 \n",
            " 7   left                  276 non-null    object\n",
            " 8   left_low              276 non-null    object\n",
            " 9   no.1                  276 non-null    object\n",
            "dtypes: int64(1), object(9)\n",
            "memory usage: 21.7+ KB\n"
          ]
        }
      ]
    },
    {
      "cell_type": "code",
      "source": [
        "print(X)"
      ],
      "metadata": {
        "colab": {
          "base_uri": "https://localhost:8080/"
        },
        "id": "tDZN_AwziQaI",
        "outputId": "146c3036-748e-4ba6-8554-3a84082cc246"
      },
      "execution_count": 34,
      "outputs": [
        {
          "output_type": "stream",
          "name": "stdout",
          "text": [
            "[['40-49' 'premeno' '20-24' ... 'right' 'right_up' 'no']\n",
            " ['40-49' 'premeno' '20-24' ... 'left' 'left_low' 'no']\n",
            " ['60-69' 'ge40' '15-19' ... 'right' 'left_up' 'no']\n",
            " ...\n",
            " ['60-69' 'ge40' '20-24' ... 'right' 'left_up' 'no']\n",
            " ['40-49' 'ge40' '30-34' ... 'left' 'left_low' 'no']\n",
            " ['50-59' 'ge40' '30-34' ... 'left' 'left_low' 'no']]\n"
          ]
        }
      ]
    },
    {
      "cell_type": "code",
      "source": [
        "print(X.shape, y.shape)"
      ],
      "metadata": {
        "colab": {
          "base_uri": "https://localhost:8080/"
        },
        "id": "jGhvYN7Iey5R",
        "outputId": "a2937fa1-24d6-40c8-9ae3-41f5524e23c0"
      },
      "execution_count": 36,
      "outputs": [
        {
          "output_type": "stream",
          "name": "stdout",
          "text": [
            "(276, 9) (276,)\n"
          ]
        }
      ]
    },
    {
      "cell_type": "code",
      "source": [
        "from sklearn.preprocessing import OrdinalEncoder\n",
        "ordinal = OrdinalEncoder()\n",
        "X = ordinal.fit_transform(X)"
      ],
      "metadata": {
        "id": "AWZ63e2CfJR1"
      },
      "execution_count": 37,
      "outputs": []
    },
    {
      "cell_type": "code",
      "source": [
        "print(X)"
      ],
      "metadata": {
        "colab": {
          "base_uri": "https://localhost:8080/"
        },
        "id": "Gh0cbdDwfdHp",
        "outputId": "fe032f8f-78e6-4f6e-a02c-f4c400ded18f"
      },
      "execution_count": 38,
      "outputs": [
        {
          "output_type": "stream",
          "name": "stdout",
          "text": [
            "[[2. 2. 3. ... 1. 4. 0.]\n",
            " [2. 2. 3. ... 0. 1. 0.]\n",
            " [4. 0. 2. ... 1. 2. 0.]\n",
            " ...\n",
            " [4. 0. 3. ... 1. 2. 0.]\n",
            " [2. 0. 5. ... 0. 1. 0.]\n",
            " [3. 0. 5. ... 0. 1. 0.]]\n"
          ]
        }
      ]
    },
    {
      "cell_type": "code",
      "source": [
        "print(X.shape)"
      ],
      "metadata": {
        "colab": {
          "base_uri": "https://localhost:8080/"
        },
        "id": "uxoAPk__ffnE",
        "outputId": "9f16e80d-c778-4eae-f18d-5c983a892961"
      },
      "execution_count": 39,
      "outputs": [
        {
          "output_type": "stream",
          "name": "stdout",
          "text": [
            "(276, 9)\n"
          ]
        }
      ]
    },
    {
      "cell_type": "code",
      "source": [
        "from sklearn.preprocessing import LabelEncoder\n",
        "encode = LabelEncoder()\n",
        "y = encode.fit_transform(y)"
      ],
      "metadata": {
        "id": "gC41cYtOfi7R"
      },
      "execution_count": 40,
      "outputs": []
    },
    {
      "cell_type": "code",
      "source": [
        "print(y.shape)"
      ],
      "metadata": {
        "colab": {
          "base_uri": "https://localhost:8080/"
        },
        "id": "862Zl9qYfxZW",
        "outputId": "053a4ae3-387a-4ba8-bd02-f43849b4a493"
      },
      "execution_count": 41,
      "outputs": [
        {
          "output_type": "stream",
          "name": "stdout",
          "text": [
            "(276,)\n"
          ]
        }
      ]
    },
    {
      "cell_type": "code",
      "source": [
        "print(y)"
      ],
      "metadata": {
        "colab": {
          "base_uri": "https://localhost:8080/"
        },
        "id": "JsmEI16Ef0R9",
        "outputId": "0a35b9c3-09f3-4d90-c05c-7cc6c3e4f7a3"
      },
      "execution_count": 42,
      "outputs": [
        {
          "output_type": "stream",
          "name": "stdout",
          "text": [
            "[0 0 0 0 0 0 0 0 0 0 0 0 0 0 0 0 0 0 0 0 0 0 0 0 0 0 0 0 0 0 0 0 0 0 0 0 0\n",
            " 0 0 0 0 0 0 0 0 0 0 0 0 0 0 0 0 0 0 0 0 0 0 0 0 0 0 0 0 0 0 0 0 0 0 0 0 0\n",
            " 0 0 0 0 0 0 0 0 0 0 0 0 0 0 0 0 0 0 0 0 0 0 0 0 0 0 0 0 0 0 0 0 0 0 0 0 0\n",
            " 0 0 0 0 0 0 0 0 0 0 0 0 0 0 0 0 0 0 0 0 0 0 0 0 0 0 0 0 0 0 0 0 0 0 0 0 0\n",
            " 0 0 0 0 0 0 0 0 0 0 0 0 0 0 0 0 0 0 0 0 0 0 0 0 0 0 0 0 0 0 0 0 0 0 0 0 0\n",
            " 0 0 0 0 0 0 0 0 0 0 1 1 1 1 1 1 1 1 1 1 1 1 1 1 1 1 1 1 1 1 1 1 1 1 1 1 1\n",
            " 1 1 1 1 1 1 1 1 1 1 1 1 1 1 1 1 1 1 1 1 1 1 1 1 1 1 1 1 1 1 1 1 1 1 1 1 1\n",
            " 1 1 1 1 1 1 1 1 1 1 1 1 1 1 1 1 1]\n"
          ]
        }
      ]
    },
    {
      "cell_type": "code",
      "source": [
        "# do the label encoders \n",
        "# do the one hot encoders\n",
        "# split to training and test set\n",
        "# feature scaling\n",
        "# ann model\n",
        "# add the input layer\n",
        "# add the hidden layers\n",
        "# compile the ann\n",
        "# train the ann\n",
        "# the predict\n",
        "# accuracy score\n",
        "# confusion matrix"
      ],
      "metadata": {
        "id": "xdCnojIUiZ-2"
      },
      "execution_count": 6,
      "outputs": []
    },
    {
      "cell_type": "code",
      "source": [
        "y = encode.fit_transform(y)"
      ],
      "metadata": {
        "id": "9PUkT3YxXfgf"
      },
      "execution_count": 11,
      "outputs": []
    },
    {
      "cell_type": "code",
      "source": [
        "from sklearn.model_selection import train_test_split\n",
        "X_train, X_test, y_train, y_test = train_test_split(X, y, test_size = 0.2, random_state = 0)"
      ],
      "metadata": {
        "id": "s7BPbQnZXdPP"
      },
      "execution_count": 43,
      "outputs": []
    },
    {
      "cell_type": "code",
      "source": [
        "from sklearn.preprocessing import StandardScaler\n",
        "sc = StandardScaler()\n",
        "X_train = sc.fit_transform(X_train)\n",
        "X_test = sc.transform(X_test)"
      ],
      "metadata": {
        "id": "uY2thZVsaZf4"
      },
      "execution_count": 44,
      "outputs": []
    },
    {
      "cell_type": "code",
      "source": [
        "ann = tf.keras.models.Sequential()"
      ],
      "metadata": {
        "id": "qq1U0oC6YIBE"
      },
      "execution_count": 45,
      "outputs": []
    },
    {
      "cell_type": "code",
      "source": [
        "ann.add(tf.keras.layers.Dense(units=6, activation='relu'))"
      ],
      "metadata": {
        "id": "vK2zkA5OhVs4"
      },
      "execution_count": 46,
      "outputs": []
    },
    {
      "cell_type": "code",
      "source": [
        "ann.add(tf.keras.layers.Dense(units=6, activation='relu'))"
      ],
      "metadata": {
        "id": "s7LaeDQThicu"
      },
      "execution_count": 47,
      "outputs": []
    },
    {
      "cell_type": "code",
      "source": [
        "ann.add(tf.keras.layers.Dense(units=1, activation='sigmoid'))"
      ],
      "metadata": {
        "id": "gtbE3uURhrai"
      },
      "execution_count": 48,
      "outputs": []
    },
    {
      "cell_type": "code",
      "source": [
        "ann.compile(optimizer='adam', loss='binary_crossentropy', metrics=['accuracy'])"
      ],
      "metadata": {
        "id": "A0hUKKNQh3Jl"
      },
      "execution_count": 49,
      "outputs": []
    },
    {
      "cell_type": "code",
      "source": [
        "ann.fit(X_train, y_train, batch_size=32, epochs=100)"
      ],
      "metadata": {
        "colab": {
          "base_uri": "https://localhost:8080/"
        },
        "id": "PqsKfNtTiGOD",
        "outputId": "c9f6500f-c22b-4d83-b0e1-eb28a95b4527"
      },
      "execution_count": 54,
      "outputs": [
        {
          "output_type": "stream",
          "name": "stdout",
          "text": [
            "Epoch 1/100\n",
            "7/7 [==============================] - 0s 5ms/step - loss: 0.3145 - accuracy: 0.8682\n",
            "Epoch 2/100\n",
            "7/7 [==============================] - 0s 6ms/step - loss: 0.3140 - accuracy: 0.8727\n",
            "Epoch 3/100\n",
            "7/7 [==============================] - 0s 2ms/step - loss: 0.3137 - accuracy: 0.8727\n",
            "Epoch 4/100\n",
            "7/7 [==============================] - 0s 3ms/step - loss: 0.3134 - accuracy: 0.8727\n",
            "Epoch 5/100\n",
            "7/7 [==============================] - 0s 3ms/step - loss: 0.3135 - accuracy: 0.8727\n",
            "Epoch 6/100\n",
            "7/7 [==============================] - 0s 3ms/step - loss: 0.3131 - accuracy: 0.8727\n",
            "Epoch 7/100\n",
            "7/7 [==============================] - 0s 3ms/step - loss: 0.3129 - accuracy: 0.8727\n",
            "Epoch 8/100\n",
            "7/7 [==============================] - 0s 3ms/step - loss: 0.3128 - accuracy: 0.8727\n",
            "Epoch 9/100\n",
            "7/7 [==============================] - 0s 3ms/step - loss: 0.3124 - accuracy: 0.8727\n",
            "Epoch 10/100\n",
            "7/7 [==============================] - 0s 3ms/step - loss: 0.3121 - accuracy: 0.8727\n",
            "Epoch 11/100\n",
            "7/7 [==============================] - 0s 3ms/step - loss: 0.3119 - accuracy: 0.8727\n",
            "Epoch 12/100\n",
            "7/7 [==============================] - 0s 3ms/step - loss: 0.3117 - accuracy: 0.8727\n",
            "Epoch 13/100\n",
            "7/7 [==============================] - 0s 2ms/step - loss: 0.3114 - accuracy: 0.8727\n",
            "Epoch 14/100\n",
            "7/7 [==============================] - 0s 3ms/step - loss: 0.3111 - accuracy: 0.8727\n",
            "Epoch 15/100\n",
            "7/7 [==============================] - 0s 3ms/step - loss: 0.3109 - accuracy: 0.8727\n",
            "Epoch 16/100\n",
            "7/7 [==============================] - 0s 3ms/step - loss: 0.3110 - accuracy: 0.8727\n",
            "Epoch 17/100\n",
            "7/7 [==============================] - 0s 3ms/step - loss: 0.3105 - accuracy: 0.8727\n",
            "Epoch 18/100\n",
            "7/7 [==============================] - 0s 3ms/step - loss: 0.3102 - accuracy: 0.8727\n",
            "Epoch 19/100\n",
            "7/7 [==============================] - 0s 3ms/step - loss: 0.3100 - accuracy: 0.8727\n",
            "Epoch 20/100\n",
            "7/7 [==============================] - 0s 3ms/step - loss: 0.3099 - accuracy: 0.8727\n",
            "Epoch 21/100\n",
            "7/7 [==============================] - 0s 3ms/step - loss: 0.3097 - accuracy: 0.8727\n",
            "Epoch 22/100\n",
            "7/7 [==============================] - 0s 3ms/step - loss: 0.3094 - accuracy: 0.8727\n",
            "Epoch 23/100\n",
            "7/7 [==============================] - 0s 3ms/step - loss: 0.3092 - accuracy: 0.8727\n",
            "Epoch 24/100\n",
            "7/7 [==============================] - 0s 3ms/step - loss: 0.3094 - accuracy: 0.8727\n",
            "Epoch 25/100\n",
            "7/7 [==============================] - 0s 3ms/step - loss: 0.3089 - accuracy: 0.8727\n",
            "Epoch 26/100\n",
            "7/7 [==============================] - 0s 2ms/step - loss: 0.3086 - accuracy: 0.8727\n",
            "Epoch 27/100\n",
            "7/7 [==============================] - 0s 3ms/step - loss: 0.3085 - accuracy: 0.8727\n",
            "Epoch 28/100\n",
            "7/7 [==============================] - 0s 5ms/step - loss: 0.3083 - accuracy: 0.8727\n",
            "Epoch 29/100\n",
            "7/7 [==============================] - 0s 3ms/step - loss: 0.3083 - accuracy: 0.8727\n",
            "Epoch 30/100\n",
            "7/7 [==============================] - 0s 3ms/step - loss: 0.3078 - accuracy: 0.8727\n",
            "Epoch 31/100\n",
            "7/7 [==============================] - 0s 3ms/step - loss: 0.3080 - accuracy: 0.8727\n",
            "Epoch 32/100\n",
            "7/7 [==============================] - 0s 2ms/step - loss: 0.3075 - accuracy: 0.8727\n",
            "Epoch 33/100\n",
            "7/7 [==============================] - 0s 2ms/step - loss: 0.3074 - accuracy: 0.8727\n",
            "Epoch 34/100\n",
            "7/7 [==============================] - 0s 3ms/step - loss: 0.3070 - accuracy: 0.8727\n",
            "Epoch 35/100\n",
            "7/7 [==============================] - 0s 2ms/step - loss: 0.3068 - accuracy: 0.8727\n",
            "Epoch 36/100\n",
            "7/7 [==============================] - 0s 3ms/step - loss: 0.3065 - accuracy: 0.8773\n",
            "Epoch 37/100\n",
            "7/7 [==============================] - 0s 3ms/step - loss: 0.3065 - accuracy: 0.8727\n",
            "Epoch 38/100\n",
            "7/7 [==============================] - 0s 3ms/step - loss: 0.3063 - accuracy: 0.8727\n",
            "Epoch 39/100\n",
            "7/7 [==============================] - 0s 3ms/step - loss: 0.3062 - accuracy: 0.8727\n",
            "Epoch 40/100\n",
            "7/7 [==============================] - 0s 2ms/step - loss: 0.3061 - accuracy: 0.8727\n",
            "Epoch 41/100\n",
            "7/7 [==============================] - 0s 3ms/step - loss: 0.3058 - accuracy: 0.8773\n",
            "Epoch 42/100\n",
            "7/7 [==============================] - 0s 3ms/step - loss: 0.3056 - accuracy: 0.8773\n",
            "Epoch 43/100\n",
            "7/7 [==============================] - 0s 3ms/step - loss: 0.3052 - accuracy: 0.8727\n",
            "Epoch 44/100\n",
            "7/7 [==============================] - 0s 3ms/step - loss: 0.3049 - accuracy: 0.8727\n",
            "Epoch 45/100\n",
            "7/7 [==============================] - 0s 3ms/step - loss: 0.3048 - accuracy: 0.8773\n",
            "Epoch 46/100\n",
            "7/7 [==============================] - 0s 2ms/step - loss: 0.3047 - accuracy: 0.8773\n",
            "Epoch 47/100\n",
            "7/7 [==============================] - 0s 2ms/step - loss: 0.3044 - accuracy: 0.8773\n",
            "Epoch 48/100\n",
            "7/7 [==============================] - 0s 2ms/step - loss: 0.3041 - accuracy: 0.8773\n",
            "Epoch 49/100\n",
            "7/7 [==============================] - 0s 2ms/step - loss: 0.3038 - accuracy: 0.8773\n",
            "Epoch 50/100\n",
            "7/7 [==============================] - 0s 2ms/step - loss: 0.3036 - accuracy: 0.8727\n",
            "Epoch 51/100\n",
            "7/7 [==============================] - 0s 3ms/step - loss: 0.3034 - accuracy: 0.8727\n",
            "Epoch 52/100\n",
            "7/7 [==============================] - 0s 2ms/step - loss: 0.3031 - accuracy: 0.8727\n",
            "Epoch 53/100\n",
            "7/7 [==============================] - 0s 2ms/step - loss: 0.3029 - accuracy: 0.8727\n",
            "Epoch 54/100\n",
            "7/7 [==============================] - 0s 3ms/step - loss: 0.3027 - accuracy: 0.8727\n",
            "Epoch 55/100\n",
            "7/7 [==============================] - 0s 2ms/step - loss: 0.3025 - accuracy: 0.8727\n",
            "Epoch 56/100\n",
            "7/7 [==============================] - 0s 3ms/step - loss: 0.3020 - accuracy: 0.8727\n",
            "Epoch 57/100\n",
            "7/7 [==============================] - 0s 3ms/step - loss: 0.3020 - accuracy: 0.8727\n",
            "Epoch 58/100\n",
            "7/7 [==============================] - 0s 2ms/step - loss: 0.3016 - accuracy: 0.8727\n",
            "Epoch 59/100\n",
            "7/7 [==============================] - 0s 3ms/step - loss: 0.3016 - accuracy: 0.8727\n",
            "Epoch 60/100\n",
            "7/7 [==============================] - 0s 3ms/step - loss: 0.3012 - accuracy: 0.8773\n",
            "Epoch 61/100\n",
            "7/7 [==============================] - 0s 2ms/step - loss: 0.3010 - accuracy: 0.8773\n",
            "Epoch 62/100\n",
            "7/7 [==============================] - 0s 3ms/step - loss: 0.3008 - accuracy: 0.8727\n",
            "Epoch 63/100\n",
            "7/7 [==============================] - 0s 3ms/step - loss: 0.3003 - accuracy: 0.8727\n",
            "Epoch 64/100\n",
            "7/7 [==============================] - 0s 4ms/step - loss: 0.3003 - accuracy: 0.8727\n",
            "Epoch 65/100\n",
            "7/7 [==============================] - 0s 3ms/step - loss: 0.2998 - accuracy: 0.8727\n",
            "Epoch 66/100\n",
            "7/7 [==============================] - 0s 2ms/step - loss: 0.2998 - accuracy: 0.8727\n",
            "Epoch 67/100\n",
            "7/7 [==============================] - 0s 2ms/step - loss: 0.2996 - accuracy: 0.8727\n",
            "Epoch 68/100\n",
            "7/7 [==============================] - 0s 2ms/step - loss: 0.2992 - accuracy: 0.8818\n",
            "Epoch 69/100\n",
            "7/7 [==============================] - 0s 2ms/step - loss: 0.2989 - accuracy: 0.8773\n",
            "Epoch 70/100\n",
            "7/7 [==============================] - 0s 3ms/step - loss: 0.2989 - accuracy: 0.8818\n",
            "Epoch 71/100\n",
            "7/7 [==============================] - 0s 3ms/step - loss: 0.2986 - accuracy: 0.8773\n",
            "Epoch 72/100\n",
            "7/7 [==============================] - 0s 3ms/step - loss: 0.2983 - accuracy: 0.8773\n",
            "Epoch 73/100\n",
            "7/7 [==============================] - 0s 3ms/step - loss: 0.2980 - accuracy: 0.8773\n",
            "Epoch 74/100\n",
            "7/7 [==============================] - 0s 2ms/step - loss: 0.2978 - accuracy: 0.8773\n",
            "Epoch 75/100\n",
            "7/7 [==============================] - 0s 2ms/step - loss: 0.2976 - accuracy: 0.8773\n",
            "Epoch 76/100\n",
            "7/7 [==============================] - 0s 3ms/step - loss: 0.2973 - accuracy: 0.8818\n",
            "Epoch 77/100\n",
            "7/7 [==============================] - 0s 3ms/step - loss: 0.2975 - accuracy: 0.8773\n",
            "Epoch 78/100\n",
            "7/7 [==============================] - 0s 3ms/step - loss: 0.2970 - accuracy: 0.8773\n",
            "Epoch 79/100\n",
            "7/7 [==============================] - 0s 3ms/step - loss: 0.2969 - accuracy: 0.8818\n",
            "Epoch 80/100\n",
            "7/7 [==============================] - 0s 3ms/step - loss: 0.2966 - accuracy: 0.8773\n",
            "Epoch 81/100\n",
            "7/7 [==============================] - 0s 3ms/step - loss: 0.2962 - accuracy: 0.8773\n",
            "Epoch 82/100\n",
            "7/7 [==============================] - 0s 3ms/step - loss: 0.2963 - accuracy: 0.8773\n",
            "Epoch 83/100\n",
            "7/7 [==============================] - 0s 4ms/step - loss: 0.2960 - accuracy: 0.8818\n",
            "Epoch 84/100\n",
            "7/7 [==============================] - 0s 3ms/step - loss: 0.2956 - accuracy: 0.8818\n",
            "Epoch 85/100\n",
            "7/7 [==============================] - 0s 3ms/step - loss: 0.2954 - accuracy: 0.8818\n",
            "Epoch 86/100\n",
            "7/7 [==============================] - 0s 3ms/step - loss: 0.2950 - accuracy: 0.8818\n",
            "Epoch 87/100\n",
            "7/7 [==============================] - 0s 3ms/step - loss: 0.2950 - accuracy: 0.8818\n",
            "Epoch 88/100\n",
            "7/7 [==============================] - 0s 2ms/step - loss: 0.2948 - accuracy: 0.8818\n",
            "Epoch 89/100\n",
            "7/7 [==============================] - 0s 3ms/step - loss: 0.2945 - accuracy: 0.8818\n",
            "Epoch 90/100\n",
            "7/7 [==============================] - 0s 3ms/step - loss: 0.2945 - accuracy: 0.8773\n",
            "Epoch 91/100\n",
            "7/7 [==============================] - 0s 3ms/step - loss: 0.2945 - accuracy: 0.8773\n",
            "Epoch 92/100\n",
            "7/7 [==============================] - 0s 3ms/step - loss: 0.2940 - accuracy: 0.8818\n",
            "Epoch 93/100\n",
            "7/7 [==============================] - 0s 3ms/step - loss: 0.2938 - accuracy: 0.8818\n",
            "Epoch 94/100\n",
            "7/7 [==============================] - 0s 3ms/step - loss: 0.2934 - accuracy: 0.8818\n",
            "Epoch 95/100\n",
            "7/7 [==============================] - 0s 3ms/step - loss: 0.2934 - accuracy: 0.8818\n",
            "Epoch 96/100\n",
            "7/7 [==============================] - 0s 4ms/step - loss: 0.2929 - accuracy: 0.8818\n",
            "Epoch 97/100\n",
            "7/7 [==============================] - 0s 3ms/step - loss: 0.2932 - accuracy: 0.8818\n",
            "Epoch 98/100\n",
            "7/7 [==============================] - 0s 3ms/step - loss: 0.2926 - accuracy: 0.8818\n",
            "Epoch 99/100\n",
            "7/7 [==============================] - 0s 3ms/step - loss: 0.2924 - accuracy: 0.8818\n",
            "Epoch 100/100\n",
            "7/7 [==============================] - 0s 3ms/step - loss: 0.2921 - accuracy: 0.8818\n"
          ]
        },
        {
          "output_type": "execute_result",
          "data": {
            "text/plain": [
              "<keras.callbacks.History at 0x7f7eecade2d0>"
            ]
          },
          "metadata": {},
          "execution_count": 54
        }
      ]
    },
    {
      "cell_type": "code",
      "source": [
        "ann.save('model.h5')\n",
        "print('Saved model to disk')"
      ],
      "metadata": {
        "colab": {
          "base_uri": "https://localhost:8080/"
        },
        "id": "D_X1xKgjiu7D",
        "outputId": "5d730e39-4834-4809-cf02-8911b62d681a"
      },
      "execution_count": 55,
      "outputs": [
        {
          "output_type": "stream",
          "name": "stdout",
          "text": [
            "Saved model to disk\n"
          ]
        }
      ]
    }
  ]
}